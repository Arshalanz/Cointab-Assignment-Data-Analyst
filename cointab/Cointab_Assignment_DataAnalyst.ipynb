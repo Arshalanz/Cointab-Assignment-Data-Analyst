{
 "cells": [
  {
   "cell_type": "code",
   "execution_count": 41,
   "id": "9f11edf5-6803-4610-86ae-7ab8ac6ff037",
   "metadata": {},
   "outputs": [],
   "source": [
    "import pandas as pd\n",
    "import numpy as np\n",
    "import seaborn as sns\n",
    "import seaborn as sns\n",
    "\n",
    "import matplotlib.pyplot as plt\n",
    "%matplotlib inline\n",
    "\n",
    "sns.set_theme(style=\"darkgrid\")\n",
    "\n",
    "\n",
    "import warnings\n",
    "warnings.filterwarnings('ignore')"
   ]
  },
  {
   "cell_type": "code",
   "execution_count": null,
   "id": "c9464977-c45b-43eb-ae83-9dc8121f6fd0",
   "metadata": {},
   "outputs": [],
   "source": []
  },
  {
   "cell_type": "code",
   "execution_count": null,
   "id": "76cfc904-1771-4c57-96b1-7831aea7a87f",
   "metadata": {},
   "outputs": [],
   "source": []
  },
  {
   "cell_type": "code",
   "execution_count": 2,
   "id": "6ac25873-aaae-4bb4-bb76-d6554c35369e",
   "metadata": {},
   "outputs": [
    {
     "data": {
      "text/html": [
       "<div>\n",
       "<style scoped>\n",
       "    .dataframe tbody tr th:only-of-type {\n",
       "        vertical-align: middle;\n",
       "    }\n",
       "\n",
       "    .dataframe tbody tr th {\n",
       "        vertical-align: top;\n",
       "    }\n",
       "\n",
       "    .dataframe thead th {\n",
       "        text-align: right;\n",
       "    }\n",
       "</style>\n",
       "<table border=\"1\" class=\"dataframe\">\n",
       "  <thead>\n",
       "    <tr style=\"text-align: right;\">\n",
       "      <th></th>\n",
       "      <th>ExternOrderNo</th>\n",
       "      <th>SKU</th>\n",
       "      <th>Order Qty</th>\n",
       "    </tr>\n",
       "  </thead>\n",
       "  <tbody>\n",
       "    <tr>\n",
       "      <th>0</th>\n",
       "      <td>2001827036</td>\n",
       "      <td>8904223818706</td>\n",
       "      <td>1.0</td>\n",
       "    </tr>\n",
       "    <tr>\n",
       "      <th>1</th>\n",
       "      <td>2001827036</td>\n",
       "      <td>8904223819093</td>\n",
       "      <td>1.0</td>\n",
       "    </tr>\n",
       "    <tr>\n",
       "      <th>2</th>\n",
       "      <td>2001827036</td>\n",
       "      <td>8904223819109</td>\n",
       "      <td>1.0</td>\n",
       "    </tr>\n",
       "    <tr>\n",
       "      <th>3</th>\n",
       "      <td>2001827036</td>\n",
       "      <td>8904223818430</td>\n",
       "      <td>1.0</td>\n",
       "    </tr>\n",
       "    <tr>\n",
       "      <th>4</th>\n",
       "      <td>2001827036</td>\n",
       "      <td>8904223819277</td>\n",
       "      <td>1.0</td>\n",
       "    </tr>\n",
       "    <tr>\n",
       "      <th>...</th>\n",
       "      <td>...</td>\n",
       "      <td>...</td>\n",
       "      <td>...</td>\n",
       "    </tr>\n",
       "    <tr>\n",
       "      <th>395</th>\n",
       "      <td>2001806229</td>\n",
       "      <td>8904223818942</td>\n",
       "      <td>1.0</td>\n",
       "    </tr>\n",
       "    <tr>\n",
       "      <th>396</th>\n",
       "      <td>2001806229</td>\n",
       "      <td>8904223818850</td>\n",
       "      <td>1.0</td>\n",
       "    </tr>\n",
       "    <tr>\n",
       "      <th>397</th>\n",
       "      <td>2001806226</td>\n",
       "      <td>8904223818850</td>\n",
       "      <td>2.0</td>\n",
       "    </tr>\n",
       "    <tr>\n",
       "      <th>398</th>\n",
       "      <td>2001806210</td>\n",
       "      <td>8904223816214</td>\n",
       "      <td>1.0</td>\n",
       "    </tr>\n",
       "    <tr>\n",
       "      <th>399</th>\n",
       "      <td>2001806210</td>\n",
       "      <td>8904223818874</td>\n",
       "      <td>1.0</td>\n",
       "    </tr>\n",
       "  </tbody>\n",
       "</table>\n",
       "<p>400 rows × 3 columns</p>\n",
       "</div>"
      ],
      "text/plain": [
       "     ExternOrderNo            SKU  Order Qty\n",
       "0       2001827036  8904223818706        1.0\n",
       "1       2001827036  8904223819093        1.0\n",
       "2       2001827036  8904223819109        1.0\n",
       "3       2001827036  8904223818430        1.0\n",
       "4       2001827036  8904223819277        1.0\n",
       "..             ...            ...        ...\n",
       "395     2001806229  8904223818942        1.0\n",
       "396     2001806229  8904223818850        1.0\n",
       "397     2001806226  8904223818850        2.0\n",
       "398     2001806210  8904223816214        1.0\n",
       "399     2001806210  8904223818874        1.0\n",
       "\n",
       "[400 rows x 3 columns]"
      ]
     },
     "execution_count": 2,
     "metadata": {},
     "output_type": "execute_result"
    }
   ],
   "source": [
    "data = pd.read_excel(r'C:\\Users\\mdasa\\OneDrive\\Desktop\\cointab\\Final Assignment Data\\Company X - Order Report.xlsx')\n",
    "data"
   ]
  },
  {
   "cell_type": "code",
   "execution_count": 3,
   "id": "3f50ef08-cb9a-45ca-8997-45c9593f93ca",
   "metadata": {},
   "outputs": [
    {
     "name": "stdout",
     "output_type": "stream",
     "text": [
      "<class 'pandas.core.frame.DataFrame'>\n",
      "RangeIndex: 400 entries, 0 to 399\n",
      "Data columns (total 3 columns):\n",
      " #   Column         Non-Null Count  Dtype  \n",
      "---  ------         --------------  -----  \n",
      " 0   ExternOrderNo  400 non-null    int64  \n",
      " 1   SKU            400 non-null    object \n",
      " 2   Order Qty      400 non-null    float64\n",
      "dtypes: float64(1), int64(1), object(1)\n",
      "memory usage: 9.5+ KB\n"
     ]
    }
   ],
   "source": [
    "data.info()\n"
   ]
  },
  {
   "cell_type": "code",
   "execution_count": 4,
   "id": "e9672bbb-1c4e-41c4-857e-48b99a2ad485",
   "metadata": {},
   "outputs": [
    {
     "data": {
      "text/html": [
       "<div>\n",
       "<style scoped>\n",
       "    .dataframe tbody tr th:only-of-type {\n",
       "        vertical-align: middle;\n",
       "    }\n",
       "\n",
       "    .dataframe tbody tr th {\n",
       "        vertical-align: top;\n",
       "    }\n",
       "\n",
       "    .dataframe thead th {\n",
       "        text-align: right;\n",
       "    }\n",
       "</style>\n",
       "<table border=\"1\" class=\"dataframe\">\n",
       "  <thead>\n",
       "    <tr style=\"text-align: right;\">\n",
       "      <th></th>\n",
       "      <th>count</th>\n",
       "      <th>mean</th>\n",
       "      <th>std</th>\n",
       "      <th>min</th>\n",
       "      <th>25%</th>\n",
       "      <th>50%</th>\n",
       "      <th>75%</th>\n",
       "      <th>max</th>\n",
       "    </tr>\n",
       "  </thead>\n",
       "  <tbody>\n",
       "    <tr>\n",
       "      <th>ExternOrderNo</th>\n",
       "      <td>400.0</td>\n",
       "      <td>2.001811e+09</td>\n",
       "      <td>5187.698443</td>\n",
       "      <td>2.001806e+09</td>\n",
       "      <td>2.001807e+09</td>\n",
       "      <td>2.001809e+09</td>\n",
       "      <td>2.001812e+09</td>\n",
       "      <td>2.001827e+09</td>\n",
       "    </tr>\n",
       "    <tr>\n",
       "      <th>Order Qty</th>\n",
       "      <td>400.0</td>\n",
       "      <td>1.297500e+00</td>\n",
       "      <td>0.919842</td>\n",
       "      <td>1.000000e+00</td>\n",
       "      <td>1.000000e+00</td>\n",
       "      <td>1.000000e+00</td>\n",
       "      <td>1.000000e+00</td>\n",
       "      <td>8.000000e+00</td>\n",
       "    </tr>\n",
       "  </tbody>\n",
       "</table>\n",
       "</div>"
      ],
      "text/plain": [
       "               count          mean          std           min           25%  \\\n",
       "ExternOrderNo  400.0  2.001811e+09  5187.698443  2.001806e+09  2.001807e+09   \n",
       "Order Qty      400.0  1.297500e+00     0.919842  1.000000e+00  1.000000e+00   \n",
       "\n",
       "                        50%           75%           max  \n",
       "ExternOrderNo  2.001809e+09  2.001812e+09  2.001827e+09  \n",
       "Order Qty      1.000000e+00  1.000000e+00  8.000000e+00  "
      ]
     },
     "execution_count": 4,
     "metadata": {},
     "output_type": "execute_result"
    }
   ],
   "source": [
    "data.describe().T"
   ]
  },
  {
   "cell_type": "markdown",
   "id": "5bc38e29-f771-49e5-83af-2f5c5811e5e5",
   "metadata": {},
   "source": [
    "- 400 data is present in dataset.\n",
    "- No null Values present in dataset.\n",
    "- ExternOrderNo is integer type.\n",
    "- SKU is object type.\n",
    "- Order Qty is float type"
   ]
  },
  {
   "cell_type": "code",
   "execution_count": 5,
   "id": "41ecc9dd-dc94-4864-be6e-826a93eb2185",
   "metadata": {},
   "outputs": [
    {
     "name": "stdout",
     "output_type": "stream",
     "text": [
      "ExternOrderNo\n",
      "2001809820    14\n",
      "2001827036     8\n",
      "2001812854     8\n",
      "2001821185     8\n",
      "2001817093     8\n",
      "              ..\n",
      "2001814580     1\n",
      "2001820690     1\n",
      "2001806686     1\n",
      "2001806823     1\n",
      "2001807012     1\n",
      "Name: count, Length: 124, dtype: int64 \n",
      " --------------------------------------------------\n",
      "SKU\n",
      "8904223818850    60\n",
      "8904223818706    59\n",
      "8904223818942    41\n",
      "8904223819468    24\n",
      "8904223819024    17\n",
      "                 ..\n",
      "8904223819093     1\n",
      "8904223817501     1\n",
      "8904223819109     1\n",
      "GIFTBOX202002     1\n",
      "8904223818645     1\n",
      "Name: count, Length: 65, dtype: int64 \n",
      " --------------------------------------------------\n",
      "Order Qty\n",
      "1.0    334\n",
      "2.0     48\n",
      "4.0     11\n",
      "8.0      3\n",
      "6.0      3\n",
      "3.0      1\n",
      "Name: count, dtype: int64 \n",
      " --------------------------------------------------\n"
     ]
    }
   ],
   "source": [
    "for i in data.columns:\n",
    "    print(data[i].value_counts(),'\\n','-'*50)\n"
   ]
  },
  {
   "cell_type": "code",
   "execution_count": 6,
   "id": "a4e1b112-c11d-47a8-82ce-5466e0fa6f07",
   "metadata": {},
   "outputs": [
    {
     "data": {
      "image/png": "[encoded data removed]",
      "text/plain": [
       "<Figure size 640x480 with 1 Axes>"
      ]
     },
     "metadata": {},
     "output_type": "display_data"
    }
   ],
   "source": [
    "ax = sns.countplot(x = data['Order Qty'])\n",
    "for bars in ax.containers:\n",
    "    ax.bar_label(bars)\n"
   ]
  },
  {
   "cell_type": "raw",
   "id": "9fa4f164-1966-47e1-afc4-7d20546c9f32",
   "metadata": {},
   "source": [
    "Unique Values\n",
    "\n",
    "OrderNo. have 124 unique values.\n",
    "SKU have 65 unique values.\n",
    "Order Qty, 6 unique values.\n",
    " \n",
    "Highest\n",
    "\n",
    "Order No. : 2001809820, is the highest no. of data in OrderNo.\n",
    "8904223818850, is the highest in SKU.\n",
    "Maximum Order Qty is 1.0"
   ]
  },
  {
   "cell_type": "markdown",
   "id": "c489a388-747a-4bca-91fe-20cb07f47eb1",
   "metadata": {},
   "source": [
    "Company - Pincode Zone"
   ]
  },
  {
   "cell_type": "code",
   "execution_count": 7,
   "id": "20aba6ee-a62d-426d-a7b0-bffb6a8fe3b6",
   "metadata": {},
   "outputs": [
    {
     "data": {
      "text/html": [
       "<div>\n",
       "<style scoped>\n",
       "    .dataframe tbody tr th:only-of-type {\n",
       "        vertical-align: middle;\n",
       "    }\n",
       "\n",
       "    .dataframe tbody tr th {\n",
       "        vertical-align: top;\n",
       "    }\n",
       "\n",
       "    .dataframe thead th {\n",
       "        text-align: right;\n",
       "    }\n",
       "</style>\n",
       "<table border=\"1\" class=\"dataframe\">\n",
       "  <thead>\n",
       "    <tr style=\"text-align: right;\">\n",
       "      <th></th>\n",
       "      <th>Warehouse Pincode</th>\n",
       "      <th>Customer Pincode</th>\n",
       "      <th>Zone</th>\n",
       "    </tr>\n",
       "  </thead>\n",
       "  <tbody>\n",
       "    <tr>\n",
       "      <th>0</th>\n",
       "      <td>121003</td>\n",
       "      <td>507101</td>\n",
       "      <td>d</td>\n",
       "    </tr>\n",
       "    <tr>\n",
       "      <th>1</th>\n",
       "      <td>121003</td>\n",
       "      <td>486886</td>\n",
       "      <td>d</td>\n",
       "    </tr>\n",
       "    <tr>\n",
       "      <th>2</th>\n",
       "      <td>121003</td>\n",
       "      <td>532484</td>\n",
       "      <td>d</td>\n",
       "    </tr>\n",
       "    <tr>\n",
       "      <th>3</th>\n",
       "      <td>121003</td>\n",
       "      <td>143001</td>\n",
       "      <td>b</td>\n",
       "    </tr>\n",
       "    <tr>\n",
       "      <th>4</th>\n",
       "      <td>121003</td>\n",
       "      <td>515591</td>\n",
       "      <td>d</td>\n",
       "    </tr>\n",
       "    <tr>\n",
       "      <th>...</th>\n",
       "      <td>...</td>\n",
       "      <td>...</td>\n",
       "      <td>...</td>\n",
       "    </tr>\n",
       "    <tr>\n",
       "      <th>119</th>\n",
       "      <td>121003</td>\n",
       "      <td>325207</td>\n",
       "      <td>b</td>\n",
       "    </tr>\n",
       "    <tr>\n",
       "      <th>120</th>\n",
       "      <td>121003</td>\n",
       "      <td>303702</td>\n",
       "      <td>b</td>\n",
       "    </tr>\n",
       "    <tr>\n",
       "      <th>121</th>\n",
       "      <td>121003</td>\n",
       "      <td>313301</td>\n",
       "      <td>b</td>\n",
       "    </tr>\n",
       "    <tr>\n",
       "      <th>122</th>\n",
       "      <td>121003</td>\n",
       "      <td>173212</td>\n",
       "      <td>e</td>\n",
       "    </tr>\n",
       "    <tr>\n",
       "      <th>123</th>\n",
       "      <td>121003</td>\n",
       "      <td>302020</td>\n",
       "      <td>b</td>\n",
       "    </tr>\n",
       "  </tbody>\n",
       "</table>\n",
       "<p>124 rows × 3 columns</p>\n",
       "</div>"
      ],
      "text/plain": [
       "     Warehouse Pincode  Customer Pincode Zone\n",
       "0               121003            507101    d\n",
       "1               121003            486886    d\n",
       "2               121003            532484    d\n",
       "3               121003            143001    b\n",
       "4               121003            515591    d\n",
       "..                 ...               ...  ...\n",
       "119             121003            325207    b\n",
       "120             121003            303702    b\n",
       "121             121003            313301    b\n",
       "122             121003            173212    e\n",
       "123             121003            302020    b\n",
       "\n",
       "[124 rows x 3 columns]"
      ]
     },
     "execution_count": 7,
     "metadata": {},
     "output_type": "execute_result"
    }
   ],
   "source": [
    "data1 = pd.read_excel(r'C:\\Users\\mdasa\\OneDrive\\Desktop\\cointab\\Final Assignment Data\\Company X - Pincode Zones.xlsx')\n",
    "data1\n"
   ]
  },
  {
   "cell_type": "code",
   "execution_count": 8,
   "id": "f52ba74e-bbb6-4a05-8a05-18a3e3c8f491",
   "metadata": {},
   "outputs": [
    {
     "name": "stdout",
     "output_type": "stream",
     "text": [
      "<class 'pandas.core.frame.DataFrame'>\n",
      "RangeIndex: 124 entries, 0 to 123\n",
      "Data columns (total 3 columns):\n",
      " #   Column             Non-Null Count  Dtype \n",
      "---  ------             --------------  ----- \n",
      " 0   Warehouse Pincode  124 non-null    int64 \n",
      " 1   Customer Pincode   124 non-null    int64 \n",
      " 2   Zone               124 non-null    object\n",
      "dtypes: int64(2), object(1)\n",
      "memory usage: 3.0+ KB\n"
     ]
    }
   ],
   "source": [
    "data1.info()"
   ]
  },
  {
   "cell_type": "code",
   "execution_count": 9,
   "id": "a150f141-012b-425d-ba73-f2611a0afaed",
   "metadata": {},
   "outputs": [
    {
     "data": {
      "text/html": [
       "<div>\n",
       "<style scoped>\n",
       "    .dataframe tbody tr th:only-of-type {\n",
       "        vertical-align: middle;\n",
       "    }\n",
       "\n",
       "    .dataframe tbody tr th {\n",
       "        vertical-align: top;\n",
       "    }\n",
       "\n",
       "    .dataframe thead th {\n",
       "        text-align: right;\n",
       "    }\n",
       "</style>\n",
       "<table border=\"1\" class=\"dataframe\">\n",
       "  <thead>\n",
       "    <tr style=\"text-align: right;\">\n",
       "      <th></th>\n",
       "      <th>count</th>\n",
       "      <th>mean</th>\n",
       "      <th>std</th>\n",
       "      <th>min</th>\n",
       "      <th>25%</th>\n",
       "      <th>50%</th>\n",
       "      <th>75%</th>\n",
       "      <th>max</th>\n",
       "    </tr>\n",
       "  </thead>\n",
       "  <tbody>\n",
       "    <tr>\n",
       "      <th>Warehouse Pincode</th>\n",
       "      <td>124.0</td>\n",
       "      <td>121003.000000</td>\n",
       "      <td>0.00000</td>\n",
       "      <td>121003.0</td>\n",
       "      <td>121003.0</td>\n",
       "      <td>121003.0</td>\n",
       "      <td>121003.00</td>\n",
       "      <td>121003.0</td>\n",
       "    </tr>\n",
       "    <tr>\n",
       "      <th>Customer Pincode</th>\n",
       "      <td>124.0</td>\n",
       "      <td>365488.072581</td>\n",
       "      <td>152156.32213</td>\n",
       "      <td>140301.0</td>\n",
       "      <td>302017.0</td>\n",
       "      <td>321304.5</td>\n",
       "      <td>405102.25</td>\n",
       "      <td>845438.0</td>\n",
       "    </tr>\n",
       "  </tbody>\n",
       "</table>\n",
       "</div>"
      ],
      "text/plain": [
       "                   count           mean           std       min       25%  \\\n",
       "Warehouse Pincode  124.0  121003.000000       0.00000  121003.0  121003.0   \n",
       "Customer Pincode   124.0  365488.072581  152156.32213  140301.0  302017.0   \n",
       "\n",
       "                        50%        75%       max  \n",
       "Warehouse Pincode  121003.0  121003.00  121003.0  \n",
       "Customer Pincode   321304.5  405102.25  845438.0  "
      ]
     },
     "execution_count": 9,
     "metadata": {},
     "output_type": "execute_result"
    }
   ],
   "source": [
    "data1.describe().T"
   ]
  },
  {
   "cell_type": "markdown",
   "id": "7d56b151-a169-4d42-b6a1-6cb2d0830051",
   "metadata": {},
   "source": [
    "<!-- 124 data present in the dataset.\r\n",
    "No null values present.\r\n",
    "Warehouse Pincode and Customer Pincode are integer type.\r\n",
    "Zone is object type colu -->mn."
   ]
  },
  {
   "cell_type": "code",
   "execution_count": 10,
   "id": "d6c70db6-e360-454f-88f8-e64ea6529fca",
   "metadata": {},
   "outputs": [
    {
     "name": "stdout",
     "output_type": "stream",
     "text": [
      "Warehouse Pincode\n",
      "121003    124\n",
      "Name: count, dtype: int64 \n",
      " --------------------------------------------------\n",
      "Customer Pincode\n",
      "302017    5\n",
      "313001    4\n",
      "302002    2\n",
      "302031    2\n",
      "248001    2\n",
      "         ..\n",
      "723146    1\n",
      "140604    1\n",
      "831006    1\n",
      "562110    1\n",
      "313301    1\n",
      "Name: count, Length: 108, dtype: int64 \n",
      " --------------------------------------------------\n",
      "Zone\n",
      "b    79\n",
      "d    38\n",
      "e     7\n",
      "Name: count, dtype: int64 \n",
      " --------------------------------------------------\n"
     ]
    }
   ],
   "source": [
    "for i in data1.columns:\n",
    "    print(data1[i].value_counts(),'\\n','-'*50)"
   ]
  },
  {
   "cell_type": "code",
   "execution_count": 11,
   "id": "4d5cf870-3f12-4eb9-ba73-7798d19a08ab",
   "metadata": {},
   "outputs": [
    {
     "data": {
      "image/png": "[encoded data removed]",
      "text/plain": [
       "<Figure size 640x480 with 1 Axes>"
      ]
     },
     "metadata": {},
     "output_type": "display_data"
    }
   ],
   "source": [
    "ab = sns.countplot(x = data1['Zone'])\n",
    "for bars in ab.containers:\n",
    "    ab.bar_label(bars)"
   ]
  },
  {
   "cell_type": "code",
   "execution_count": 12,
   "id": "a15c7839-9df8-4c89-93db-e2d7cd4f58f7",
   "metadata": {},
   "outputs": [
    {
     "data": {
      "text/plain": [
       "<Axes: xlabel='count', ylabel='Customer Pincode'>"
      ]
     },
     "execution_count": 12,
     "metadata": {},
     "output_type": "execute_result"
    },
    {
     "data": {
      "image/png": "[encoded data removed]",
      "text/plain": [
       "<Figure size 1000x1500 with 1 Axes>"
      ]
     },
     "metadata": {},
     "output_type": "display_data"
    }
   ],
   "source": [
    "plt.figure(figsize = (10,15))\n",
    "sns.countplot(y = data1['Customer Pincode'])\n",
    "\n"
   ]
  },
  {
   "cell_type": "raw",
   "id": "1d6f94dd-4ad7-4b21-a019-ffad256bb96a",
   "metadata": {},
   "source": [
    "**There is only 1 warehouse pincode i.e. 121003.\n",
    "Customer Pincode has 108 unique values and Maximum is from 302017 customer pincode.\n",
    "3 unique values in Zone and Maximum zone is b.**"
   ]
  },
  {
   "cell_type": "markdown",
   "id": "cd31be02-1c76-4e10-88d3-dbffbe1a07ac",
   "metadata": {},
   "source": [
    "\n",
    "__Company - SKU Master__"
   ]
  },
  {
   "cell_type": "code",
   "execution_count": 13,
   "id": "d87ecb5b-ab11-4cff-b308-8b807bdb556d",
   "metadata": {},
   "outputs": [
    {
     "data": {
      "text/html": [
       "<div>\n",
       "<style scoped>\n",
       "    .dataframe tbody tr th:only-of-type {\n",
       "        vertical-align: middle;\n",
       "    }\n",
       "\n",
       "    .dataframe tbody tr th {\n",
       "        vertical-align: top;\n",
       "    }\n",
       "\n",
       "    .dataframe thead th {\n",
       "        text-align: right;\n",
       "    }\n",
       "</style>\n",
       "<table border=\"1\" class=\"dataframe\">\n",
       "  <thead>\n",
       "    <tr style=\"text-align: right;\">\n",
       "      <th></th>\n",
       "      <th>SKU</th>\n",
       "      <th>Weight (g)</th>\n",
       "    </tr>\n",
       "  </thead>\n",
       "  <tbody>\n",
       "    <tr>\n",
       "      <th>0</th>\n",
       "      <td>8904223815682</td>\n",
       "      <td>210</td>\n",
       "    </tr>\n",
       "    <tr>\n",
       "      <th>1</th>\n",
       "      <td>8904223815859</td>\n",
       "      <td>165</td>\n",
       "    </tr>\n",
       "    <tr>\n",
       "      <th>2</th>\n",
       "      <td>8904223815866</td>\n",
       "      <td>113</td>\n",
       "    </tr>\n",
       "    <tr>\n",
       "      <th>3</th>\n",
       "      <td>8904223815873</td>\n",
       "      <td>65</td>\n",
       "    </tr>\n",
       "    <tr>\n",
       "      <th>4</th>\n",
       "      <td>8904223816214</td>\n",
       "      <td>120</td>\n",
       "    </tr>\n",
       "    <tr>\n",
       "      <th>...</th>\n",
       "      <td>...</td>\n",
       "      <td>...</td>\n",
       "    </tr>\n",
       "    <tr>\n",
       "      <th>61</th>\n",
       "      <td>8904223819505</td>\n",
       "      <td>210</td>\n",
       "    </tr>\n",
       "    <tr>\n",
       "      <th>62</th>\n",
       "      <td>8904223819499</td>\n",
       "      <td>210</td>\n",
       "    </tr>\n",
       "    <tr>\n",
       "      <th>63</th>\n",
       "      <td>8904223819512</td>\n",
       "      <td>210</td>\n",
       "    </tr>\n",
       "    <tr>\n",
       "      <th>64</th>\n",
       "      <td>8904223819543</td>\n",
       "      <td>300</td>\n",
       "    </tr>\n",
       "    <tr>\n",
       "      <th>65</th>\n",
       "      <td>SACHETS001</td>\n",
       "      <td>10</td>\n",
       "    </tr>\n",
       "  </tbody>\n",
       "</table>\n",
       "<p>66 rows × 2 columns</p>\n",
       "</div>"
      ],
      "text/plain": [
       "              SKU  Weight (g)\n",
       "0   8904223815682         210\n",
       "1   8904223815859         165\n",
       "2   8904223815866         113\n",
       "3   8904223815873          65\n",
       "4   8904223816214         120\n",
       "..            ...         ...\n",
       "61  8904223819505         210\n",
       "62  8904223819499         210\n",
       "63  8904223819512         210\n",
       "64  8904223819543         300\n",
       "65     SACHETS001          10\n",
       "\n",
       "[66 rows x 2 columns]"
      ]
     },
     "execution_count": 13,
     "metadata": {},
     "output_type": "execute_result"
    }
   ],
   "source": [
    "data2 = pd.read_excel(r'C:\\Users\\mdasa\\OneDrive\\Desktop\\cointab\\Final Assignment Data\\Company X - SKU Master.xlsx')\n",
    "data2"
   ]
  },
  {
   "cell_type": "code",
   "execution_count": 14,
   "id": "09b691ef-5632-4837-916d-6a012c057f38",
   "metadata": {},
   "outputs": [
    {
     "name": "stdout",
     "output_type": "stream",
     "text": [
      "<class 'pandas.core.frame.DataFrame'>\n",
      "RangeIndex: 66 entries, 0 to 65\n",
      "Data columns (total 2 columns):\n",
      " #   Column      Non-Null Count  Dtype \n",
      "---  ------      --------------  ----- \n",
      " 0   SKU         66 non-null     object\n",
      " 1   Weight (g)  66 non-null     int64 \n",
      "dtypes: int64(1), object(1)\n",
      "memory usage: 1.2+ KB\n"
     ]
    }
   ],
   "source": [
    "data2.info()"
   ]
  },
  {
   "cell_type": "code",
   "execution_count": 15,
   "id": "b9c62621-99e1-4912-b247-d39475b095cc",
   "metadata": {},
   "outputs": [
    {
     "data": {
      "text/html": [
       "<div>\n",
       "<style scoped>\n",
       "    .dataframe tbody tr th:only-of-type {\n",
       "        vertical-align: middle;\n",
       "    }\n",
       "\n",
       "    .dataframe tbody tr th {\n",
       "        vertical-align: top;\n",
       "    }\n",
       "\n",
       "    .dataframe thead th {\n",
       "        text-align: right;\n",
       "    }\n",
       "</style>\n",
       "<table border=\"1\" class=\"dataframe\">\n",
       "  <thead>\n",
       "    <tr style=\"text-align: right;\">\n",
       "      <th></th>\n",
       "      <th>Weight (g)</th>\n",
       "    </tr>\n",
       "  </thead>\n",
       "  <tbody>\n",
       "    <tr>\n",
       "      <th>count</th>\n",
       "      <td>66.000000</td>\n",
       "    </tr>\n",
       "    <tr>\n",
       "      <th>mean</th>\n",
       "      <td>219.742424</td>\n",
       "    </tr>\n",
       "    <tr>\n",
       "      <th>std</th>\n",
       "      <td>146.855482</td>\n",
       "    </tr>\n",
       "    <tr>\n",
       "      <th>min</th>\n",
       "      <td>10.000000</td>\n",
       "    </tr>\n",
       "    <tr>\n",
       "      <th>25%</th>\n",
       "      <td>116.250000</td>\n",
       "    </tr>\n",
       "    <tr>\n",
       "      <th>50%</th>\n",
       "      <td>165.000000</td>\n",
       "    </tr>\n",
       "    <tr>\n",
       "      <th>75%</th>\n",
       "      <td>290.000000</td>\n",
       "    </tr>\n",
       "    <tr>\n",
       "      <th>max</th>\n",
       "      <td>600.000000</td>\n",
       "    </tr>\n",
       "  </tbody>\n",
       "</table>\n",
       "</div>"
      ],
      "text/plain": [
       "       Weight (g)\n",
       "count   66.000000\n",
       "mean   219.742424\n",
       "std    146.855482\n",
       "min     10.000000\n",
       "25%    116.250000\n",
       "50%    165.000000\n",
       "75%    290.000000\n",
       "max    600.000000"
      ]
     },
     "execution_count": 15,
     "metadata": {},
     "output_type": "execute_result"
    }
   ],
   "source": [
    "data2.describe()\n"
   ]
  },
  {
   "cell_type": "raw",
   "id": "93e9abce-3fbe-4958-a8d6-4e6fa064f73f",
   "metadata": {},
   "source": [
    "66 data are present.\n",
    "No null values.\n",
    "SKU is object type.\n",
    "Weight (g) is integer type column."
   ]
  },
  {
   "cell_type": "code",
   "execution_count": 16,
   "id": "c7b47477-65c4-4a0e-9204-5c2515313306",
   "metadata": {},
   "outputs": [
    {
     "name": "stdout",
     "output_type": "stream",
     "text": [
      "SKU\n",
      "GIFTBOX202002    2\n",
      "8904223815682    1\n",
      "8904223819291    1\n",
      "8904223819116    1\n",
      "8904223819161    1\n",
      "                ..\n",
      "8904223818997    1\n",
      "8904223818942    1\n",
      "8904223819024    1\n",
      "8904223819031    1\n",
      "SACHETS001       1\n",
      "Name: count, Length: 65, dtype: int64 \n",
      " --------------------------------------------------\n",
      "Weight (g)\n",
      "500    5\n",
      "350    5\n",
      "210    4\n",
      "120    4\n",
      "165    4\n",
      "240    4\n",
      "115    3\n",
      "112    3\n",
      "290    3\n",
      "65     3\n",
      "150    2\n",
      "140    2\n",
      "170    2\n",
      "600    2\n",
      "100    2\n",
      "113    2\n",
      "137    2\n",
      "130    1\n",
      "250    1\n",
      "300    1\n",
      "552    1\n",
      "232    1\n",
      "30     1\n",
      "110    1\n",
      "133    1\n",
      "490    1\n",
      "160    1\n",
      "127    1\n",
      "121    1\n",
      "102    1\n",
      "10     1\n",
      "Name: count, dtype: int64 \n",
      " --------------------------------------------------\n"
     ]
    }
   ],
   "source": [
    "for i in data2.columns:\n",
    "    print(data2[i].value_counts(),'\\n','-'*50)"
   ]
  },
  {
   "cell_type": "code",
   "execution_count": 17,
   "id": "6d3d3d8f-52d9-43cf-8a96-f6b4b05e4084",
   "metadata": {},
   "outputs": [
    {
     "data": {
      "text/plain": [
       "<Axes: xlabel='count', ylabel='Weight (g)'>"
      ]
     },
     "execution_count": 17,
     "metadata": {},
     "output_type": "execute_result"
    },
    {
     "data": {
      "image/png": "[encoded data removed]",
      "text/plain": [
       "<Figure size 640x480 with 1 Axes>"
      ]
     },
     "metadata": {},
     "output_type": "display_data"
    }
   ],
   "source": [
    "sns.countplot(y = data2['Weight (g)'])"
   ]
  },
  {
   "cell_type": "markdown",
   "id": "f25e3876-f765-4485-9eaa-5f127545186c",
   "metadata": {},
   "source": [
    "\n",
    "Only SKU no. GIFTBOX202002 is twice a time, else others are single unit.\n",
    "Maximum weight(g) are 500g and 350g."
   ]
  },
  {
   "cell_type": "code",
   "execution_count": 18,
   "id": "6c602174-aab4-451e-92c2-b5bba6fece10",
   "metadata": {},
   "outputs": [
    {
     "data": {
      "text/html": [
       "<div>\n",
       "<style scoped>\n",
       "    .dataframe tbody tr th:only-of-type {\n",
       "        vertical-align: middle;\n",
       "    }\n",
       "\n",
       "    .dataframe tbody tr th {\n",
       "        vertical-align: top;\n",
       "    }\n",
       "\n",
       "    .dataframe thead th {\n",
       "        text-align: right;\n",
       "    }\n",
       "</style>\n",
       "<table border=\"1\" class=\"dataframe\">\n",
       "  <thead>\n",
       "    <tr style=\"text-align: right;\">\n",
       "      <th></th>\n",
       "      <th>ExternOrderNo</th>\n",
       "      <th>SKU</th>\n",
       "      <th>Order Qty</th>\n",
       "      <th>Weight (g)</th>\n",
       "    </tr>\n",
       "  </thead>\n",
       "  <tbody>\n",
       "    <tr>\n",
       "      <th>0</th>\n",
       "      <td>2001827036</td>\n",
       "      <td>8904223818706</td>\n",
       "      <td>1.0</td>\n",
       "      <td>127</td>\n",
       "    </tr>\n",
       "    <tr>\n",
       "      <th>1</th>\n",
       "      <td>2001827036</td>\n",
       "      <td>8904223819093</td>\n",
       "      <td>1.0</td>\n",
       "      <td>150</td>\n",
       "    </tr>\n",
       "    <tr>\n",
       "      <th>2</th>\n",
       "      <td>2001827036</td>\n",
       "      <td>8904223819109</td>\n",
       "      <td>1.0</td>\n",
       "      <td>100</td>\n",
       "    </tr>\n",
       "    <tr>\n",
       "      <th>3</th>\n",
       "      <td>2001827036</td>\n",
       "      <td>8904223818430</td>\n",
       "      <td>1.0</td>\n",
       "      <td>165</td>\n",
       "    </tr>\n",
       "    <tr>\n",
       "      <th>4</th>\n",
       "      <td>2001827036</td>\n",
       "      <td>8904223819277</td>\n",
       "      <td>1.0</td>\n",
       "      <td>350</td>\n",
       "    </tr>\n",
       "    <tr>\n",
       "      <th>...</th>\n",
       "      <td>...</td>\n",
       "      <td>...</td>\n",
       "      <td>...</td>\n",
       "      <td>...</td>\n",
       "    </tr>\n",
       "    <tr>\n",
       "      <th>396</th>\n",
       "      <td>2001806229</td>\n",
       "      <td>8904223818942</td>\n",
       "      <td>1.0</td>\n",
       "      <td>133</td>\n",
       "    </tr>\n",
       "    <tr>\n",
       "      <th>397</th>\n",
       "      <td>2001806229</td>\n",
       "      <td>8904223818850</td>\n",
       "      <td>1.0</td>\n",
       "      <td>240</td>\n",
       "    </tr>\n",
       "    <tr>\n",
       "      <th>398</th>\n",
       "      <td>2001806226</td>\n",
       "      <td>8904223818850</td>\n",
       "      <td>2.0</td>\n",
       "      <td>240</td>\n",
       "    </tr>\n",
       "    <tr>\n",
       "      <th>399</th>\n",
       "      <td>2001806210</td>\n",
       "      <td>8904223816214</td>\n",
       "      <td>1.0</td>\n",
       "      <td>120</td>\n",
       "    </tr>\n",
       "    <tr>\n",
       "      <th>400</th>\n",
       "      <td>2001806210</td>\n",
       "      <td>8904223818874</td>\n",
       "      <td>1.0</td>\n",
       "      <td>100</td>\n",
       "    </tr>\n",
       "  </tbody>\n",
       "</table>\n",
       "<p>401 rows × 4 columns</p>\n",
       "</div>"
      ],
      "text/plain": [
       "     ExternOrderNo            SKU  Order Qty  Weight (g)\n",
       "0       2001827036  8904223818706        1.0         127\n",
       "1       2001827036  8904223819093        1.0         150\n",
       "2       2001827036  8904223819109        1.0         100\n",
       "3       2001827036  8904223818430        1.0         165\n",
       "4       2001827036  8904223819277        1.0         350\n",
       "..             ...            ...        ...         ...\n",
       "396     2001806229  8904223818942        1.0         133\n",
       "397     2001806229  8904223818850        1.0         240\n",
       "398     2001806226  8904223818850        2.0         240\n",
       "399     2001806210  8904223816214        1.0         120\n",
       "400     2001806210  8904223818874        1.0         100\n",
       "\n",
       "[401 rows x 4 columns]"
      ]
     },
     "execution_count": 18,
     "metadata": {},
     "output_type": "execute_result"
    }
   ],
   "source": [
    "company = pd.merge(data, data2, on = 'SKU', how = 'inner')\n",
    "company"
   ]
  },
  {
   "cell_type": "markdown",
   "id": "25ed7dd8-a529-477b-8a04-dcaff13342b9",
   "metadata": {},
   "source": [
    "__RHS Data (courier company invoice in CSV file)__\n",
    "\n",
    "● Invoice in CSV file mentioning AWB Number (courier company’s own internal ID), Order ID (company X’s order ID), weight of shipment, warehouse pickup pincode, customer delivery pincode, zone of delivery, charges per shipment, type of shipment\n",
    "\n",
    "● Courier charges rate card at weight slab and pincode level. If the invoice mentions “Forward charges” then only forward charges (“fwd”) should be applicable as per zone and fixed & additional weights based on weight slabs. If the invoice mentions “Forward and rto charges” then forward charges (“fwd”) and RTO charges (“rto”) should be applicable as per zone and fixed & additional weights based on weight slabs.\n",
    "\n",
    "● For the first slab of that zone, “fixed” rate as per the slab is applicable. For each additional slab, “additional” weight in the same proportion is applicable. Total charges will be “fixed” + “total additional” if any. For example: weight 2.2KG, Zone C. So for Zone C the slab length = 0.75KG. So the total applicable weight = 2.25KG. For the first 0.75 KG the charge is “fwd”, and for each 0.75 after the first, charges will be additional charges."
   ]
  },
  {
   "cell_type": "code",
   "execution_count": 19,
   "id": "06b14e16-2507-487f-9501-640048bdc6ed",
   "metadata": {},
   "outputs": [
    {
     "data": {
      "text/html": [
       "<div>\n",
       "<style scoped>\n",
       "    .dataframe tbody tr th:only-of-type {\n",
       "        vertical-align: middle;\n",
       "    }\n",
       "\n",
       "    .dataframe tbody tr th {\n",
       "        vertical-align: top;\n",
       "    }\n",
       "\n",
       "    .dataframe thead th {\n",
       "        text-align: right;\n",
       "    }\n",
       "</style>\n",
       "<table border=\"1\" class=\"dataframe\">\n",
       "  <thead>\n",
       "    <tr style=\"text-align: right;\">\n",
       "      <th></th>\n",
       "      <th>AWB Code</th>\n",
       "      <th>Order ID</th>\n",
       "      <th>Charged Weight</th>\n",
       "      <th>Warehouse Pincode</th>\n",
       "      <th>Customer Pincode</th>\n",
       "      <th>Zone</th>\n",
       "      <th>Type of Shipment</th>\n",
       "      <th>Billing Amount (Rs.)</th>\n",
       "    </tr>\n",
       "  </thead>\n",
       "  <tbody>\n",
       "    <tr>\n",
       "      <th>0</th>\n",
       "      <td>1091117222124</td>\n",
       "      <td>2001806232</td>\n",
       "      <td>1.30</td>\n",
       "      <td>121003</td>\n",
       "      <td>507101</td>\n",
       "      <td>d</td>\n",
       "      <td>Forward charges</td>\n",
       "      <td>135.0</td>\n",
       "    </tr>\n",
       "    <tr>\n",
       "      <th>1</th>\n",
       "      <td>1091117222194</td>\n",
       "      <td>2001806273</td>\n",
       "      <td>1.00</td>\n",
       "      <td>121003</td>\n",
       "      <td>486886</td>\n",
       "      <td>d</td>\n",
       "      <td>Forward charges</td>\n",
       "      <td>90.2</td>\n",
       "    </tr>\n",
       "    <tr>\n",
       "      <th>2</th>\n",
       "      <td>1091117222931</td>\n",
       "      <td>2001806408</td>\n",
       "      <td>2.50</td>\n",
       "      <td>121003</td>\n",
       "      <td>532484</td>\n",
       "      <td>d</td>\n",
       "      <td>Forward charges</td>\n",
       "      <td>224.6</td>\n",
       "    </tr>\n",
       "    <tr>\n",
       "      <th>3</th>\n",
       "      <td>1091117223244</td>\n",
       "      <td>2001806458</td>\n",
       "      <td>1.00</td>\n",
       "      <td>121003</td>\n",
       "      <td>143001</td>\n",
       "      <td>b</td>\n",
       "      <td>Forward charges</td>\n",
       "      <td>61.3</td>\n",
       "    </tr>\n",
       "    <tr>\n",
       "      <th>4</th>\n",
       "      <td>1091117229345</td>\n",
       "      <td>2001807012</td>\n",
       "      <td>0.15</td>\n",
       "      <td>121003</td>\n",
       "      <td>515591</td>\n",
       "      <td>d</td>\n",
       "      <td>Forward charges</td>\n",
       "      <td>45.4</td>\n",
       "    </tr>\n",
       "    <tr>\n",
       "      <th>...</th>\n",
       "      <td>...</td>\n",
       "      <td>...</td>\n",
       "      <td>...</td>\n",
       "      <td>...</td>\n",
       "      <td>...</td>\n",
       "      <td>...</td>\n",
       "      <td>...</td>\n",
       "      <td>...</td>\n",
       "    </tr>\n",
       "    <tr>\n",
       "      <th>119</th>\n",
       "      <td>1091118551656</td>\n",
       "      <td>2001812941</td>\n",
       "      <td>0.73</td>\n",
       "      <td>121003</td>\n",
       "      <td>325207</td>\n",
       "      <td>d</td>\n",
       "      <td>Forward charges</td>\n",
       "      <td>90.2</td>\n",
       "    </tr>\n",
       "    <tr>\n",
       "      <th>120</th>\n",
       "      <td>1091117614452</td>\n",
       "      <td>2001809383</td>\n",
       "      <td>0.50</td>\n",
       "      <td>121003</td>\n",
       "      <td>303702</td>\n",
       "      <td>d</td>\n",
       "      <td>Forward and RTO charges</td>\n",
       "      <td>86.7</td>\n",
       "    </tr>\n",
       "    <tr>\n",
       "      <th>121</th>\n",
       "      <td>1091120922803</td>\n",
       "      <td>2001820978</td>\n",
       "      <td>0.50</td>\n",
       "      <td>121003</td>\n",
       "      <td>313301</td>\n",
       "      <td>d</td>\n",
       "      <td>Forward charges</td>\n",
       "      <td>45.4</td>\n",
       "    </tr>\n",
       "    <tr>\n",
       "      <th>122</th>\n",
       "      <td>1091121844806</td>\n",
       "      <td>2001811475</td>\n",
       "      <td>0.50</td>\n",
       "      <td>121003</td>\n",
       "      <td>173212</td>\n",
       "      <td>b</td>\n",
       "      <td>Forward charges</td>\n",
       "      <td>33.0</td>\n",
       "    </tr>\n",
       "    <tr>\n",
       "      <th>123</th>\n",
       "      <td>1091121846136</td>\n",
       "      <td>2001811305</td>\n",
       "      <td>0.50</td>\n",
       "      <td>121003</td>\n",
       "      <td>302020</td>\n",
       "      <td>d</td>\n",
       "      <td>Forward charges</td>\n",
       "      <td>45.4</td>\n",
       "    </tr>\n",
       "  </tbody>\n",
       "</table>\n",
       "<p>124 rows × 8 columns</p>\n",
       "</div>"
      ],
      "text/plain": [
       "          AWB Code    Order ID  Charged Weight  Warehouse Pincode  \\\n",
       "0    1091117222124  2001806232            1.30             121003   \n",
       "1    1091117222194  2001806273            1.00             121003   \n",
       "2    1091117222931  2001806408            2.50             121003   \n",
       "3    1091117223244  2001806458            1.00             121003   \n",
       "4    1091117229345  2001807012            0.15             121003   \n",
       "..             ...         ...             ...                ...   \n",
       "119  1091118551656  2001812941            0.73             121003   \n",
       "120  1091117614452  2001809383            0.50             121003   \n",
       "121  1091120922803  2001820978            0.50             121003   \n",
       "122  1091121844806  2001811475            0.50             121003   \n",
       "123  1091121846136  2001811305            0.50             121003   \n",
       "\n",
       "     Customer Pincode Zone         Type of Shipment  Billing Amount (Rs.)  \n",
       "0              507101    d          Forward charges                 135.0  \n",
       "1              486886    d          Forward charges                  90.2  \n",
       "2              532484    d          Forward charges                 224.6  \n",
       "3              143001    b          Forward charges                  61.3  \n",
       "4              515591    d          Forward charges                  45.4  \n",
       "..                ...  ...                      ...                   ...  \n",
       "119            325207    d          Forward charges                  90.2  \n",
       "120            303702    d  Forward and RTO charges                  86.7  \n",
       "121            313301    d          Forward charges                  45.4  \n",
       "122            173212    b          Forward charges                  33.0  \n",
       "123            302020    d          Forward charges                  45.4  \n",
       "\n",
       "[124 rows x 8 columns]"
      ]
     },
     "execution_count": 19,
     "metadata": {},
     "output_type": "execute_result"
    }
   ],
   "source": [
    "data3 = pd.read_excel(r'C:\\Users\\mdasa\\OneDrive\\Desktop\\cointab\\Final Assignment Data\\Courier Company - Invoice.xlsx')\n",
    "data3\n"
   ]
  },
  {
   "cell_type": "code",
   "execution_count": 20,
   "id": "0de182e8-7a1b-470d-b680-e1d7c636b619",
   "metadata": {},
   "outputs": [],
   "source": [
    "col3 = ['AWB Code','Order ID','Charged Weight','Warehouse Pincode','Customer Pincode','Zone','Type of Shipment','Billing Amount (Rs.)']"
   ]
  },
  {
   "cell_type": "code",
   "execution_count": 21,
   "id": "a3ac9c43-7f1b-46ad-99ff-f8937968a70f",
   "metadata": {},
   "outputs": [
    {
     "name": "stdout",
     "output_type": "stream",
     "text": [
      "AWB Code\n",
      "1091117222124    1\n",
      "1091120962515    1\n",
      "1091117227116    1\n",
      "1091117222360    1\n",
      "1091122418320    1\n",
      "                ..\n",
      "1091117222135    1\n",
      "1091117222080    1\n",
      "1091117222065    1\n",
      "1091117221940    1\n",
      "1091121846136    1\n",
      "Name: count, Length: 124, dtype: int64 \n",
      " --------------------------------------------------\n",
      "Order ID\n",
      "2001806232    1\n",
      "2001821284    1\n",
      "2001806768    1\n",
      "2001806304    1\n",
      "2001827036    1\n",
      "             ..\n",
      "2001806233    1\n",
      "2001806229    1\n",
      "2001806226    1\n",
      "2001806210    1\n",
      "2001811305    1\n",
      "Name: count, Length: 124, dtype: int64 \n",
      " --------------------------------------------------\n",
      "Charged Weight\n",
      "0.50    11\n",
      "0.68    10\n",
      "1.00     7\n",
      "0.70     6\n",
      "0.15     6\n",
      "0.72     6\n",
      "0.80     5\n",
      "0.20     5\n",
      "0.79     4\n",
      "0.60     4\n",
      "0.69     4\n",
      "0.67     3\n",
      "0.73     2\n",
      "1.30     2\n",
      "1.50     2\n",
      "1.10     2\n",
      "0.76     2\n",
      "0.71     2\n",
      "1.13     2\n",
      "0.59     2\n",
      "1.60     2\n",
      "1.20     2\n",
      "1.08     2\n",
      "0.82     1\n",
      "1.86     1\n",
      "0.61     1\n",
      "2.10     1\n",
      "0.66     1\n",
      "0.30     1\n",
      "1.04     1\n",
      "2.94     1\n",
      "2.47     1\n",
      "2.28     1\n",
      "0.74     1\n",
      "4.13     1\n",
      "1.63     1\n",
      "1.02     1\n",
      "1.35     1\n",
      "0.77     1\n",
      "1.70     1\n",
      "3.00     1\n",
      "2.00     1\n",
      "1.64     1\n",
      "2.86     1\n",
      "1.16     1\n",
      "1.27     1\n",
      "0.78     1\n",
      "2.92     1\n",
      "0.99     1\n",
      "0.86     1\n",
      "1.28     1\n",
      "1.15     1\n",
      "2.50     1\n",
      "2.27     1\n",
      "Name: count, dtype: int64 \n",
      " --------------------------------------------------\n",
      "Warehouse Pincode\n",
      "121003    124\n",
      "Name: count, dtype: int64 \n",
      " --------------------------------------------------\n",
      "Customer Pincode\n",
      "302017    5\n",
      "313001    4\n",
      "302002    2\n",
      "302031    2\n",
      "248001    2\n",
      "         ..\n",
      "723146    1\n",
      "140604    1\n",
      "831006    1\n",
      "562110    1\n",
      "313301    1\n",
      "Name: count, Length: 108, dtype: int64 \n",
      " --------------------------------------------------\n",
      "Zone\n",
      "d    98\n",
      "b    24\n",
      "e     2\n",
      "Name: count, dtype: int64 \n",
      " --------------------------------------------------\n",
      "Type of Shipment\n",
      "Forward charges            109\n",
      "Forward and RTO charges     15\n",
      "Name: count, dtype: int64 \n",
      " --------------------------------------------------\n",
      "Billing Amount (Rs.)\n",
      "90.2     48\n",
      "45.4     16\n",
      "135.0    10\n",
      "61.3     10\n",
      "89.6      6\n",
      "224.6     5\n",
      "172.8     5\n",
      "179.8     5\n",
      "33.0      3\n",
      "86.7      3\n",
      "174.5     2\n",
      "258.9     2\n",
      "269.4     2\n",
      "117.9     1\n",
      "213.5     1\n",
      "345.0     1\n",
      "151.1     1\n",
      "102.3     1\n",
      "107.3     1\n",
      "403.8     1\n",
      "Name: count, dtype: int64 \n",
      " --------------------------------------------------\n"
     ]
    }
   ],
   "source": [
    "for i in col3:\n",
    "    print(data3[i].value_counts(),'\\n','-'*50)"
   ]
  },
  {
   "cell_type": "markdown",
   "id": "179af364-62b1-4dc5-9a46-d01cddbb5f04",
   "metadata": {},
   "source": [
    "**Univariate Analysis**"
   ]
  },
  {
   "cell_type": "code",
   "execution_count": 22,
   "id": "0d7b676b-4844-4c44-a19c-eae1ebadd570",
   "metadata": {},
   "outputs": [
    {
     "data": {
      "image/png": "[encoded data removed]",
      "text/plain": [
       "<Figure size 640x480 with 1 Axes>"
      ]
     },
     "metadata": {},
     "output_type": "display_data"
    }
   ],
   "source": [
    "zx= sns.countplot(x = data3['Zone'])\n",
    "for bars in zx.containers:\n",
    "    zx.bar_label(bars)\n"
   ]
  },
  {
   "cell_type": "markdown",
   "id": "807d361d-e08a-4a3a-97c4-0e8844488b25",
   "metadata": {},
   "source": [
    "- The courier compny has to deliever only in 3 zones.\n",
    "- Zone D has the highest amount of orders.\n",
    "- Then Zone B\n",
    "- And Zone E has the least amout of orders."
   ]
  },
  {
   "cell_type": "code",
   "execution_count": 23,
   "id": "d5d1347e-21ee-4d27-81c6-c2e5a815c7c4",
   "metadata": {},
   "outputs": [
    {
     "data": {
      "image/png": "[encoded data removed]",
      "text/plain": [
       "<Figure size 640x480 with 1 Axes>"
      ]
     },
     "metadata": {},
     "output_type": "display_data"
    }
   ],
   "source": [
    "sh= sns.countplot(x = data3['Type of Shipment'])\n",
    "for bars in sh.containers:\n",
    "    sh.bar_label(bars)\n"
   ]
  },
  {
   "cell_type": "markdown",
   "id": "17923abe-89f1-47b7-9640-7705da39b634",
   "metadata": {},
   "source": [
    "__Only 2 types of shipments are there__\n",
    "1. Forward charges. 2. Forward and RTO charges\r",
    " 2. \n",
    "Forward and RTO charges are very less then Forward charges."
   ]
  },
  {
   "cell_type": "markdown",
   "id": "b50d6e78-689c-4077-ba9d-518293947bdb",
   "metadata": {},
   "source": [
    "\n",
    "__Bivariate Analysis__"
   ]
  },
  {
   "cell_type": "code",
   "execution_count": 24,
   "id": "f9779fa5-95fe-4600-a1f3-759347d28772",
   "metadata": {},
   "outputs": [],
   "source": [
    "def scatter(x,y,data):\n",
    "    plt.figure()\n",
    "    plt.scatter(x,y,data=data3)\n",
    "    plt.xlabel(x)\n",
    "    plt.ylabel(y)\n",
    "    print('Scatterpot between',x,'and',y)\n",
    "    plt.show()"
   ]
  },
  {
   "cell_type": "code",
   "execution_count": 25,
   "id": "863c8410-d6da-4cc7-9e7e-893c210ce4fe",
   "metadata": {},
   "outputs": [
    {
     "name": "stdout",
     "output_type": "stream",
     "text": [
      "Scatterpot between Zone and Customer Pincode\n"
     ]
    },
    {
     "data": {
      "image/png": "[encoded data removed]",
      "text/plain": [
       "<Figure size 640x480 with 1 Axes>"
      ]
     },
     "metadata": {},
     "output_type": "display_data"
    }
   ],
   "source": [
    "scatter (x = 'Zone', y = 'Customer Pincode', data = data3)"
   ]
  },
  {
   "cell_type": "markdown",
   "id": "b7cedbbe-eec8-4626-8192-4c85ef4fe706",
   "metadata": {},
   "source": [
    "Most of the customer are in zone d.\r\n",
    "Most of the pincodes are in zone d."
   ]
  },
  {
   "cell_type": "code",
   "execution_count": 26,
   "id": "786a6860-284d-4cad-8137-387642732520",
   "metadata": {},
   "outputs": [
    {
     "name": "stdout",
     "output_type": "stream",
     "text": [
      "Scatterpot between Zone and Billing Amount (Rs.)\n"
     ]
    },
    {
     "data": {
      "image/png": "[encoded data removed]",
      "text/plain": [
       "<Figure size 640x480 with 1 Axes>"
      ]
     },
     "metadata": {},
     "output_type": "display_data"
    }
   ],
   "source": [
    "scatter (x = 'Zone', y = 'Billing Amount (Rs.)', data = data3)"
   ]
  },
  {
   "cell_type": "markdown",
   "id": "214f0574-3d88-4c64-a05f-0a9dae2625fc",
   "metadata": {},
   "source": [
    "__In terms of Billing Amount__\n",
    "\n",
    "Billing amount for Zone d is from 50 to 400.\n",
    "Zone b billing amount is from 40 to 180.\n",
    "And Zone e is the lowest, as there are very less orders from that zone."
   ]
  },
  {
   "cell_type": "code",
   "execution_count": 27,
   "id": "91dd5487-5e8f-4f29-ae85-a022f32b7793",
   "metadata": {},
   "outputs": [
    {
     "name": "stdout",
     "output_type": "stream",
     "text": [
      "Scatterpot between Type of Shipment and Billing Amount (Rs.)\n"
     ]
    },
    {
     "data": {
      "image/png": "[encoded data removed]",
      "text/plain": [
       "<Figure size 640x480 with 1 Axes>"
      ]
     },
     "metadata": {},
     "output_type": "display_data"
    }
   ],
   "source": [
    "scatter (x = 'Type of Shipment', y = 'Billing Amount (Rs.)', data = data3)"
   ]
  },
  {
   "cell_type": "markdown",
   "id": "05b5030e-16f1-4737-8f6e-841ba5bf8e51",
   "metadata": {},
   "source": [
    "__In terms of Billing Amount.__\n",
    "\n",
    "Foward charges are from range 40 to 400\n",
    "Forward charges and RTO charges are from range 90 to 350"
   ]
  },
  {
   "cell_type": "code",
   "execution_count": 28,
   "id": "a33b73fd-3279-41cc-a58d-cd2ac418bfe3",
   "metadata": {},
   "outputs": [
    {
     "name": "stdout",
     "output_type": "stream",
     "text": [
      "Scatterpot between Charged Weight and Billing Amount (Rs.)\n"
     ]
    },
    {
     "data": {
      "image/png": "[encoded data removed]",
      "text/plain": [
       "<Figure size 640x480 with 1 Axes>"
      ]
     },
     "metadata": {},
     "output_type": "display_data"
    }
   ],
   "source": [
    "scatter (x = 'Charged Weight', y = 'Billing Amount (Rs.)', data = data3)"
   ]
  },
  {
   "cell_type": "markdown",
   "id": "b946da83-9255-4d84-a06d-0837657a89a4",
   "metadata": {},
   "source": [
    "Graph is in increasing order.\n",
    "As the weight increase, billing amount is also increasing."
   ]
  },
  {
   "cell_type": "markdown",
   "id": "e1bcb902-ab61-4413-bc23-b3ff3ec61131",
   "metadata": {},
   "source": [
    "__Merging Datasets__"
   ]
  },
  {
   "cell_type": "code",
   "execution_count": 29,
   "id": "bcdc3b01-7723-402d-9d75-ecf0fc5c4349",
   "metadata": {},
   "outputs": [],
   "source": [
    "company.rename(columns = {'ExternOrderNo':'Order ID'}, inplace = True)"
   ]
  },
  {
   "cell_type": "code",
   "execution_count": 30,
   "id": "bfe1cb3e-6078-4c60-bb2f-aba115ee5460",
   "metadata": {},
   "outputs": [],
   "source": [
    "data4 = pd.merge(company, data3, on=\"Order ID\",how = 'inner')"
   ]
  },
  {
   "cell_type": "code",
   "execution_count": 31,
   "id": "24e92cb2-5a74-471a-960b-f169f6870dd5",
   "metadata": {},
   "outputs": [
    {
     "data": {
      "text/html": [
       "<div>\n",
       "<style scoped>\n",
       "    .dataframe tbody tr th:only-of-type {\n",
       "        vertical-align: middle;\n",
       "    }\n",
       "\n",
       "    .dataframe tbody tr th {\n",
       "        vertical-align: top;\n",
       "    }\n",
       "\n",
       "    .dataframe thead th {\n",
       "        text-align: right;\n",
       "    }\n",
       "</style>\n",
       "<table border=\"1\" class=\"dataframe\">\n",
       "  <thead>\n",
       "    <tr style=\"text-align: right;\">\n",
       "      <th></th>\n",
       "      <th>Order ID</th>\n",
       "      <th>SKU</th>\n",
       "      <th>Order Qty</th>\n",
       "      <th>Weight (g)</th>\n",
       "      <th>AWB Code</th>\n",
       "      <th>Charged Weight</th>\n",
       "      <th>Warehouse Pincode</th>\n",
       "      <th>Customer Pincode</th>\n",
       "      <th>Zone</th>\n",
       "      <th>Type of Shipment</th>\n",
       "      <th>Billing Amount (Rs.)</th>\n",
       "    </tr>\n",
       "  </thead>\n",
       "  <tbody>\n",
       "    <tr>\n",
       "      <th>0</th>\n",
       "      <td>2001827036</td>\n",
       "      <td>8904223818706</td>\n",
       "      <td>1.0</td>\n",
       "      <td>127</td>\n",
       "      <td>1091122418320</td>\n",
       "      <td>1.60</td>\n",
       "      <td>121003</td>\n",
       "      <td>173213</td>\n",
       "      <td>b</td>\n",
       "      <td>Forward charges</td>\n",
       "      <td>117.9</td>\n",
       "    </tr>\n",
       "    <tr>\n",
       "      <th>1</th>\n",
       "      <td>2001827036</td>\n",
       "      <td>8904223819093</td>\n",
       "      <td>1.0</td>\n",
       "      <td>150</td>\n",
       "      <td>1091122418320</td>\n",
       "      <td>1.60</td>\n",
       "      <td>121003</td>\n",
       "      <td>173213</td>\n",
       "      <td>b</td>\n",
       "      <td>Forward charges</td>\n",
       "      <td>117.9</td>\n",
       "    </tr>\n",
       "    <tr>\n",
       "      <th>2</th>\n",
       "      <td>2001827036</td>\n",
       "      <td>8904223819109</td>\n",
       "      <td>1.0</td>\n",
       "      <td>100</td>\n",
       "      <td>1091122418320</td>\n",
       "      <td>1.60</td>\n",
       "      <td>121003</td>\n",
       "      <td>173213</td>\n",
       "      <td>b</td>\n",
       "      <td>Forward charges</td>\n",
       "      <td>117.9</td>\n",
       "    </tr>\n",
       "    <tr>\n",
       "      <th>3</th>\n",
       "      <td>2001827036</td>\n",
       "      <td>8904223818430</td>\n",
       "      <td>1.0</td>\n",
       "      <td>165</td>\n",
       "      <td>1091122418320</td>\n",
       "      <td>1.60</td>\n",
       "      <td>121003</td>\n",
       "      <td>173213</td>\n",
       "      <td>b</td>\n",
       "      <td>Forward charges</td>\n",
       "      <td>117.9</td>\n",
       "    </tr>\n",
       "    <tr>\n",
       "      <th>4</th>\n",
       "      <td>2001827036</td>\n",
       "      <td>8904223819277</td>\n",
       "      <td>1.0</td>\n",
       "      <td>350</td>\n",
       "      <td>1091122418320</td>\n",
       "      <td>1.60</td>\n",
       "      <td>121003</td>\n",
       "      <td>173213</td>\n",
       "      <td>b</td>\n",
       "      <td>Forward charges</td>\n",
       "      <td>117.9</td>\n",
       "    </tr>\n",
       "    <tr>\n",
       "      <th>...</th>\n",
       "      <td>...</td>\n",
       "      <td>...</td>\n",
       "      <td>...</td>\n",
       "      <td>...</td>\n",
       "      <td>...</td>\n",
       "      <td>...</td>\n",
       "      <td>...</td>\n",
       "      <td>...</td>\n",
       "      <td>...</td>\n",
       "      <td>...</td>\n",
       "      <td>...</td>\n",
       "    </tr>\n",
       "    <tr>\n",
       "      <th>396</th>\n",
       "      <td>2001806229</td>\n",
       "      <td>8904223818942</td>\n",
       "      <td>1.0</td>\n",
       "      <td>133</td>\n",
       "      <td>1091117222080</td>\n",
       "      <td>0.71</td>\n",
       "      <td>121003</td>\n",
       "      <td>421204</td>\n",
       "      <td>d</td>\n",
       "      <td>Forward charges</td>\n",
       "      <td>90.2</td>\n",
       "    </tr>\n",
       "    <tr>\n",
       "      <th>397</th>\n",
       "      <td>2001806229</td>\n",
       "      <td>8904223818850</td>\n",
       "      <td>1.0</td>\n",
       "      <td>240</td>\n",
       "      <td>1091117222080</td>\n",
       "      <td>0.71</td>\n",
       "      <td>121003</td>\n",
       "      <td>421204</td>\n",
       "      <td>d</td>\n",
       "      <td>Forward charges</td>\n",
       "      <td>90.2</td>\n",
       "    </tr>\n",
       "    <tr>\n",
       "      <th>398</th>\n",
       "      <td>2001806226</td>\n",
       "      <td>8904223818850</td>\n",
       "      <td>2.0</td>\n",
       "      <td>240</td>\n",
       "      <td>1091117222065</td>\n",
       "      <td>0.68</td>\n",
       "      <td>121003</td>\n",
       "      <td>723146</td>\n",
       "      <td>d</td>\n",
       "      <td>Forward charges</td>\n",
       "      <td>90.2</td>\n",
       "    </tr>\n",
       "    <tr>\n",
       "      <th>399</th>\n",
       "      <td>2001806210</td>\n",
       "      <td>8904223816214</td>\n",
       "      <td>1.0</td>\n",
       "      <td>120</td>\n",
       "      <td>1091117221940</td>\n",
       "      <td>2.92</td>\n",
       "      <td>121003</td>\n",
       "      <td>140604</td>\n",
       "      <td>b</td>\n",
       "      <td>Forward charges</td>\n",
       "      <td>174.5</td>\n",
       "    </tr>\n",
       "    <tr>\n",
       "      <th>400</th>\n",
       "      <td>2001806210</td>\n",
       "      <td>8904223818874</td>\n",
       "      <td>1.0</td>\n",
       "      <td>100</td>\n",
       "      <td>1091117221940</td>\n",
       "      <td>2.92</td>\n",
       "      <td>121003</td>\n",
       "      <td>140604</td>\n",
       "      <td>b</td>\n",
       "      <td>Forward charges</td>\n",
       "      <td>174.5</td>\n",
       "    </tr>\n",
       "  </tbody>\n",
       "</table>\n",
       "<p>401 rows × 11 columns</p>\n",
       "</div>"
      ],
      "text/plain": [
       "       Order ID            SKU  Order Qty  Weight (g)       AWB Code  \\\n",
       "0    2001827036  8904223818706        1.0         127  1091122418320   \n",
       "1    2001827036  8904223819093        1.0         150  1091122418320   \n",
       "2    2001827036  8904223819109        1.0         100  1091122418320   \n",
       "3    2001827036  8904223818430        1.0         165  1091122418320   \n",
       "4    2001827036  8904223819277        1.0         350  1091122418320   \n",
       "..          ...            ...        ...         ...            ...   \n",
       "396  2001806229  8904223818942        1.0         133  1091117222080   \n",
       "397  2001806229  8904223818850        1.0         240  1091117222080   \n",
       "398  2001806226  8904223818850        2.0         240  1091117222065   \n",
       "399  2001806210  8904223816214        1.0         120  1091117221940   \n",
       "400  2001806210  8904223818874        1.0         100  1091117221940   \n",
       "\n",
       "     Charged Weight  Warehouse Pincode  Customer Pincode Zone  \\\n",
       "0              1.60             121003            173213    b   \n",
       "1              1.60             121003            173213    b   \n",
       "2              1.60             121003            173213    b   \n",
       "3              1.60             121003            173213    b   \n",
       "4              1.60             121003            173213    b   \n",
       "..              ...                ...               ...  ...   \n",
       "396            0.71             121003            421204    d   \n",
       "397            0.71             121003            421204    d   \n",
       "398            0.68             121003            723146    d   \n",
       "399            2.92             121003            140604    b   \n",
       "400            2.92             121003            140604    b   \n",
       "\n",
       "    Type of Shipment  Billing Amount (Rs.)  \n",
       "0    Forward charges                 117.9  \n",
       "1    Forward charges                 117.9  \n",
       "2    Forward charges                 117.9  \n",
       "3    Forward charges                 117.9  \n",
       "4    Forward charges                 117.9  \n",
       "..               ...                   ...  \n",
       "396  Forward charges                  90.2  \n",
       "397  Forward charges                  90.2  \n",
       "398  Forward charges                  90.2  \n",
       "399  Forward charges                 174.5  \n",
       "400  Forward charges                 174.5  \n",
       "\n",
       "[401 rows x 11 columns]"
      ]
     },
     "execution_count": 31,
     "metadata": {},
     "output_type": "execute_result"
    }
   ],
   "source": [
    "data4"
   ]
  },
  {
   "cell_type": "code",
   "execution_count": 32,
   "id": "48bf289c-7b56-4879-8c08-d30cd6266010",
   "metadata": {},
   "outputs": [
    {
     "name": "stdout",
     "output_type": "stream",
     "text": [
      "<class 'pandas.core.frame.DataFrame'>\n",
      "RangeIndex: 401 entries, 0 to 400\n",
      "Data columns (total 11 columns):\n",
      " #   Column                Non-Null Count  Dtype  \n",
      "---  ------                --------------  -----  \n",
      " 0   Order ID              401 non-null    int64  \n",
      " 1   SKU                   401 non-null    object \n",
      " 2   Order Qty             401 non-null    float64\n",
      " 3   Weight (g)            401 non-null    int64  \n",
      " 4   AWB Code              401 non-null    int64  \n",
      " 5   Charged Weight        401 non-null    float64\n",
      " 6   Warehouse Pincode     401 non-null    int64  \n",
      " 7   Customer Pincode      401 non-null    int64  \n",
      " 8   Zone                  401 non-null    object \n",
      " 9   Type of Shipment      401 non-null    object \n",
      " 10  Billing Amount (Rs.)  401 non-null    float64\n",
      "dtypes: float64(3), int64(5), object(3)\n",
      "memory usage: 34.6+ KB\n"
     ]
    }
   ],
   "source": [
    "data4.info()"
   ]
  },
  {
   "cell_type": "code",
   "execution_count": 33,
   "id": "71b78b3a-d03b-44ed-8b66-84340d5c7ca5",
   "metadata": {},
   "outputs": [
    {
     "data": {
      "text/html": [
       "<div>\n",
       "<style scoped>\n",
       "    .dataframe tbody tr th:only-of-type {\n",
       "        vertical-align: middle;\n",
       "    }\n",
       "\n",
       "    .dataframe tbody tr th {\n",
       "        vertical-align: top;\n",
       "    }\n",
       "\n",
       "    .dataframe thead th {\n",
       "        text-align: right;\n",
       "    }\n",
       "</style>\n",
       "<table border=\"1\" class=\"dataframe\">\n",
       "  <thead>\n",
       "    <tr style=\"text-align: right;\">\n",
       "      <th></th>\n",
       "      <th>Order ID</th>\n",
       "      <th>Order Qty</th>\n",
       "      <th>Weight (g)</th>\n",
       "      <th>AWB Code</th>\n",
       "      <th>Charged Weight</th>\n",
       "      <th>Warehouse Pincode</th>\n",
       "      <th>Customer Pincode</th>\n",
       "      <th>Billing Amount (Rs.)</th>\n",
       "    </tr>\n",
       "  </thead>\n",
       "  <tbody>\n",
       "    <tr>\n",
       "      <th>count</th>\n",
       "      <td>4.010000e+02</td>\n",
       "      <td>401.000000</td>\n",
       "      <td>401.000000</td>\n",
       "      <td>4.010000e+02</td>\n",
       "      <td>401.000000</td>\n",
       "      <td>401.0</td>\n",
       "      <td>401.000000</td>\n",
       "      <td>401.000000</td>\n",
       "    </tr>\n",
       "    <tr>\n",
       "      <th>mean</th>\n",
       "      <td>2.001811e+09</td>\n",
       "      <td>1.296758</td>\n",
       "      <td>181.566085</td>\n",
       "      <td>1.091118e+12</td>\n",
       "      <td>1.116534</td>\n",
       "      <td>121003.0</td>\n",
       "      <td>358744.940150</td>\n",
       "      <td>123.248130</td>\n",
       "    </tr>\n",
       "    <tr>\n",
       "      <th>std</th>\n",
       "      <td>5.244070e+03</td>\n",
       "      <td>0.918811</td>\n",
       "      <td>92.583321</td>\n",
       "      <td>1.534932e+06</td>\n",
       "      <td>0.712407</td>\n",
       "      <td>0.0</td>\n",
       "      <td>145882.764283</td>\n",
       "      <td>69.179298</td>\n",
       "    </tr>\n",
       "    <tr>\n",
       "      <th>min</th>\n",
       "      <td>2.001806e+09</td>\n",
       "      <td>1.000000</td>\n",
       "      <td>10.000000</td>\n",
       "      <td>1.091117e+12</td>\n",
       "      <td>0.150000</td>\n",
       "      <td>121003.0</td>\n",
       "      <td>140301.000000</td>\n",
       "      <td>33.000000</td>\n",
       "    </tr>\n",
       "    <tr>\n",
       "      <th>25%</th>\n",
       "      <td>2.001807e+09</td>\n",
       "      <td>1.000000</td>\n",
       "      <td>121.000000</td>\n",
       "      <td>1.091117e+12</td>\n",
       "      <td>0.680000</td>\n",
       "      <td>121003.0</td>\n",
       "      <td>302012.000000</td>\n",
       "      <td>89.600000</td>\n",
       "    </tr>\n",
       "    <tr>\n",
       "      <th>50%</th>\n",
       "      <td>2.001809e+09</td>\n",
       "      <td>1.000000</td>\n",
       "      <td>133.000000</td>\n",
       "      <td>1.091117e+12</td>\n",
       "      <td>0.800000</td>\n",
       "      <td>121003.0</td>\n",
       "      <td>314401.000000</td>\n",
       "      <td>90.200000</td>\n",
       "    </tr>\n",
       "    <tr>\n",
       "      <th>75%</th>\n",
       "      <td>2.001812e+09</td>\n",
       "      <td>1.000000</td>\n",
       "      <td>240.000000</td>\n",
       "      <td>1.091119e+12</td>\n",
       "      <td>1.300000</td>\n",
       "      <td>121003.0</td>\n",
       "      <td>410206.000000</td>\n",
       "      <td>151.100000</td>\n",
       "    </tr>\n",
       "    <tr>\n",
       "      <th>max</th>\n",
       "      <td>2.001827e+09</td>\n",
       "      <td>8.000000</td>\n",
       "      <td>600.000000</td>\n",
       "      <td>1.091122e+12</td>\n",
       "      <td>4.130000</td>\n",
       "      <td>121003.0</td>\n",
       "      <td>845438.000000</td>\n",
       "      <td>403.800000</td>\n",
       "    </tr>\n",
       "  </tbody>\n",
       "</table>\n",
       "</div>"
      ],
      "text/plain": [
       "           Order ID   Order Qty  Weight (g)      AWB Code  Charged Weight  \\\n",
       "count  4.010000e+02  401.000000  401.000000  4.010000e+02      401.000000   \n",
       "mean   2.001811e+09    1.296758  181.566085  1.091118e+12        1.116534   \n",
       "std    5.244070e+03    0.918811   92.583321  1.534932e+06        0.712407   \n",
       "min    2.001806e+09    1.000000   10.000000  1.091117e+12        0.150000   \n",
       "25%    2.001807e+09    1.000000  121.000000  1.091117e+12        0.680000   \n",
       "50%    2.001809e+09    1.000000  133.000000  1.091117e+12        0.800000   \n",
       "75%    2.001812e+09    1.000000  240.000000  1.091119e+12        1.300000   \n",
       "max    2.001827e+09    8.000000  600.000000  1.091122e+12        4.130000   \n",
       "\n",
       "       Warehouse Pincode  Customer Pincode  Billing Amount (Rs.)  \n",
       "count              401.0        401.000000            401.000000  \n",
       "mean            121003.0     358744.940150            123.248130  \n",
       "std                  0.0     145882.764283             69.179298  \n",
       "min             121003.0     140301.000000             33.000000  \n",
       "25%             121003.0     302012.000000             89.600000  \n",
       "50%             121003.0     314401.000000             90.200000  \n",
       "75%             121003.0     410206.000000            151.100000  \n",
       "max             121003.0     845438.000000            403.800000  "
      ]
     },
     "execution_count": 33,
     "metadata": {},
     "output_type": "execute_result"
    }
   ],
   "source": [
    "data4.describe()"
   ]
  },
  {
   "cell_type": "code",
   "execution_count": 34,
   "id": "3f5b1c21-102a-4424-9351-3fa63fee4085",
   "metadata": {},
   "outputs": [
    {
     "data": {
      "image/png": "[encoded data removed]",
      "text/plain": [
       "<Figure size 640x480 with 1 Axes>"
      ]
     },
     "metadata": {},
     "output_type": "display_data"
    }
   ],
   "source": [
    "zn = sns.countplot(x = data4['Zone'])\n",
    "for bars in zn.containers:\n",
    "    zn.bar_label(bars)"
   ]
  },
  {
   "cell_type": "markdown",
   "id": "8bb77e23-8957-4584-af38-8bc3c49f0e28",
   "metadata": {},
   "source": [
    "__No diffrence found__"
   ]
  },
  {
   "cell_type": "code",
   "execution_count": 35,
   "id": "732dda59-a191-4415-87e2-8401dd0c1bd7",
   "metadata": {},
   "outputs": [
    {
     "data": {
      "image/png": "[encoded data removed]",
      "text/plain": [
       "<Figure size 640x480 with 1 Axes>"
      ]
     },
     "metadata": {},
     "output_type": "display_data"
    }
   ],
   "source": [
    "ts= sns.countplot(x='Type of Shipment', data=data4)\n",
    "for bars in ts.containers:\n",
    "    ts.bar_label(bars)"
   ]
  },
  {
   "cell_type": "markdown",
   "id": "48272d1b-ab5a-466a-b847-55cd5cad3e8c",
   "metadata": {},
   "source": [
    "__No diffrence Found__"
   ]
  },
  {
   "cell_type": "code",
   "execution_count": 36,
   "id": "c3552809-5c8a-4350-bfb9-7e41ce178f8e",
   "metadata": {},
   "outputs": [
    {
     "data": {
      "text/plain": [
       "<Axes: xlabel='count', ylabel='Weight (g)'>"
      ]
     },
     "execution_count": 36,
     "metadata": {},
     "output_type": "execute_result"
    },
    {
     "data": {
      "image/png": "[encoded data removed]",
      "text/plain": [
       "<Figure size 500x500 with 1 Axes>"
      ]
     },
     "metadata": {},
     "output_type": "display_data"
    }
   ],
   "source": [
    "plt.figure(figsize = (5,5))\n",
    "sns.countplot(y = 'Weight (g)', data = data4)"
   ]
  },
  {
   "cell_type": "markdown",
   "id": "273c5325-5935-472f-8efb-a3c03edd0112",
   "metadata": {},
   "source": [
    "Highest weightis 240 KG counts approx 96-98 times.\n",
    "Then 127 KG counts approx 56-58 times.\n",
    "Lowest count is 552 KG, 490 KG, 300 KG, 250 KG, 160 KG, 102 KG, 30 KG."
   ]
  },
  {
   "cell_type": "code",
   "execution_count": 37,
   "id": "e6a03d4e-ed5a-4a7c-a1c5-605c8c97ebb9",
   "metadata": {},
   "outputs": [
    {
     "name": "stdout",
     "output_type": "stream",
     "text": [
      "Scatterpot between Zone and Billing Amount (Rs.)\n"
     ]
    },
    {
     "data": {
      "image/png": "[encoded data removed]",
      "text/plain": [
       "<Figure size 640x480 with 1 Axes>"
      ]
     },
     "metadata": {},
     "output_type": "display_data"
    }
   ],
   "source": [
    "scatter(x = 'Zone', y = 'Billing Amount (Rs.)', data = data4)   "
   ]
  },
  {
   "cell_type": "markdown",
   "id": "68cd7fd1-024d-42fa-a085-c923458ae3f3",
   "metadata": {},
   "source": [
    "**No diffrnece Found**"
   ]
  },
  {
   "cell_type": "code",
   "execution_count": 38,
   "id": "250636a2-652a-4fc1-9c34-e10748bf5e3f",
   "metadata": {},
   "outputs": [
    {
     "data": {
      "text/plain": [
       "<Axes: xlabel='Zone', ylabel='Billing Amount (Rs.)'>"
      ]
     },
     "execution_count": 38,
     "metadata": {},
     "output_type": "execute_result"
    },
    {
     "data": {
      "image/png": "[encoded data removed]",
      "text/plain": [
       "<Figure size 640x480 with 1 Axes>"
      ]
     },
     "metadata": {},
     "output_type": "display_data"
    }
   ],
   "source": [
    "sns.scatterplot(x = data4['Zone'], y = data4['Billing Amount (Rs.)'])"
   ]
  },
  {
   "cell_type": "markdown",
   "id": "a7106966-ef51-4f29-8135-a5d3e21eba66",
   "metadata": {},
   "source": [
    "**No diffrence Found** "
   ]
  },
  {
   "cell_type": "markdown",
   "id": "3e82811c-9c70-4c61-aea0-1e6ba95c7b72",
   "metadata": {},
   "source": [
    "**Weight Slab**"
   ]
  },
  {
   "cell_type": "code",
   "execution_count": 39,
   "id": "a863c364-66fb-4b09-bb11-b27908fd3f23",
   "metadata": {
    "scrolled": true
   },
   "outputs": [
    {
     "data": {
      "text/html": [
       "<div>\n",
       "<style scoped>\n",
       "    .dataframe tbody tr th:only-of-type {\n",
       "        vertical-align: middle;\n",
       "    }\n",
       "\n",
       "    .dataframe tbody tr th {\n",
       "        vertical-align: top;\n",
       "    }\n",
       "\n",
       "    .dataframe thead th {\n",
       "        text-align: right;\n",
       "    }\n",
       "</style>\n",
       "<table border=\"1\" class=\"dataframe\">\n",
       "  <thead>\n",
       "    <tr style=\"text-align: right;\">\n",
       "      <th></th>\n",
       "      <th>Zone</th>\n",
       "      <th>Weight Slabs</th>\n",
       "      <th>Forward Fixed Charge</th>\n",
       "      <th>Forward Additional Weight Slab Charge</th>\n",
       "      <th>RTO Fixed Charge</th>\n",
       "      <th>RTO Additional Weight Slab Charge</th>\n",
       "    </tr>\n",
       "  </thead>\n",
       "  <tbody>\n",
       "    <tr>\n",
       "      <th>0</th>\n",
       "      <td>A</td>\n",
       "      <td>0.50</td>\n",
       "      <td>29.5</td>\n",
       "      <td>23.6</td>\n",
       "      <td>13.6</td>\n",
       "      <td>23.6</td>\n",
       "    </tr>\n",
       "    <tr>\n",
       "      <th>1</th>\n",
       "      <td>B</td>\n",
       "      <td>1.00</td>\n",
       "      <td>33.0</td>\n",
       "      <td>28.3</td>\n",
       "      <td>20.5</td>\n",
       "      <td>28.3</td>\n",
       "    </tr>\n",
       "    <tr>\n",
       "      <th>2</th>\n",
       "      <td>C</td>\n",
       "      <td>1.25</td>\n",
       "      <td>40.1</td>\n",
       "      <td>38.9</td>\n",
       "      <td>31.9</td>\n",
       "      <td>38.9</td>\n",
       "    </tr>\n",
       "    <tr>\n",
       "      <th>3</th>\n",
       "      <td>D</td>\n",
       "      <td>1.50</td>\n",
       "      <td>45.4</td>\n",
       "      <td>44.8</td>\n",
       "      <td>41.3</td>\n",
       "      <td>44.8</td>\n",
       "    </tr>\n",
       "    <tr>\n",
       "      <th>4</th>\n",
       "      <td>E</td>\n",
       "      <td>2.00</td>\n",
       "      <td>56.6</td>\n",
       "      <td>55.5</td>\n",
       "      <td>50.7</td>\n",
       "      <td>55.5</td>\n",
       "    </tr>\n",
       "  </tbody>\n",
       "</table>\n",
       "</div>"
      ],
      "text/plain": [
       "  Zone  Weight Slabs  Forward Fixed Charge  \\\n",
       "0    A          0.50                  29.5   \n",
       "1    B          1.00                  33.0   \n",
       "2    C          1.25                  40.1   \n",
       "3    D          1.50                  45.4   \n",
       "4    E          2.00                  56.6   \n",
       "\n",
       "   Forward Additional Weight Slab Charge  RTO Fixed Charge  \\\n",
       "0                                   23.6              13.6   \n",
       "1                                   28.3              20.5   \n",
       "2                                   38.9              31.9   \n",
       "3                                   44.8              41.3   \n",
       "4                                   55.5              50.7   \n",
       "\n",
       "   RTO Additional Weight Slab Charge  \n",
       "0                               23.6  \n",
       "1                               28.3  \n",
       "2                               38.9  \n",
       "3                               44.8  \n",
       "4                               55.5  "
      ]
     },
     "execution_count": 39,
     "metadata": {},
     "output_type": "execute_result"
    }
   ],
   "source": [
    "data5 = pd.read_excel(r'C:\\Users\\mdasa\\OneDrive\\Desktop\\cointab\\Final Assignment Data\\Courier Company - Rates.xlsx')\n",
    "data5"
   ]
  },
  {
   "cell_type": "markdown",
   "id": "582260db-1116-423c-afd3-91c5e4824f81",
   "metadata": {},
   "source": [
    "__Creating the expected dataset based on weight slab's data__"
   ]
  },
  {
   "cell_type": "code",
   "execution_count": 73,
   "id": "db5772d1-01e4-4d9e-a35c-255435e713e1",
   "metadata": {},
   "outputs": [],
   "source": [
    "expected = pd.DataFrame({'Order ID':output['Order ID'],'Weight':output['Total weight as per X (KG)'],'Zone':output['Delivery Zone as per X'],'Shipment':output['Type of Shipment'],'slab':output['Weight slab as per X (KG)']})"
   ]
  },
  {
   "cell_type": "code",
   "execution_count": 74,
   "id": "4854ce9c-f38a-4998-9c8b-76f2ad9cf6a9",
   "metadata": {},
   "outputs": [
    {
     "data": {
      "text/html": [
       "<div>\n",
       "<style scoped>\n",
       "    .dataframe tbody tr th:only-of-type {\n",
       "        vertical-align: middle;\n",
       "    }\n",
       "\n",
       "    .dataframe tbody tr th {\n",
       "        vertical-align: top;\n",
       "    }\n",
       "\n",
       "    .dataframe thead th {\n",
       "        text-align: right;\n",
       "    }\n",
       "</style>\n",
       "<table border=\"1\" class=\"dataframe\">\n",
       "  <thead>\n",
       "    <tr style=\"text-align: right;\">\n",
       "      <th></th>\n",
       "      <th>Order ID</th>\n",
       "      <th>Weight</th>\n",
       "      <th>Zone</th>\n",
       "      <th>Shipment</th>\n",
       "      <th>slab</th>\n",
       "    </tr>\n",
       "  </thead>\n",
       "  <tbody>\n",
       "    <tr>\n",
       "      <th>0</th>\n",
       "      <td>2001827036</td>\n",
       "      <td>1.27</td>\n",
       "      <td>b</td>\n",
       "      <td>Forward charges</td>\n",
       "      <td>0.50</td>\n",
       "    </tr>\n",
       "    <tr>\n",
       "      <th>1</th>\n",
       "      <td>2001827036</td>\n",
       "      <td>1.50</td>\n",
       "      <td>b</td>\n",
       "      <td>Forward charges</td>\n",
       "      <td>0.50</td>\n",
       "    </tr>\n",
       "    <tr>\n",
       "      <th>2</th>\n",
       "      <td>2001827036</td>\n",
       "      <td>1.00</td>\n",
       "      <td>b</td>\n",
       "      <td>Forward charges</td>\n",
       "      <td>0.50</td>\n",
       "    </tr>\n",
       "    <tr>\n",
       "      <th>3</th>\n",
       "      <td>2001827036</td>\n",
       "      <td>1.65</td>\n",
       "      <td>b</td>\n",
       "      <td>Forward charges</td>\n",
       "      <td>0.50</td>\n",
       "    </tr>\n",
       "    <tr>\n",
       "      <th>4</th>\n",
       "      <td>2001827036</td>\n",
       "      <td>3.50</td>\n",
       "      <td>b</td>\n",
       "      <td>Forward charges</td>\n",
       "      <td>0.50</td>\n",
       "    </tr>\n",
       "    <tr>\n",
       "      <th>...</th>\n",
       "      <td>...</td>\n",
       "      <td>...</td>\n",
       "      <td>...</td>\n",
       "      <td>...</td>\n",
       "      <td>...</td>\n",
       "    </tr>\n",
       "    <tr>\n",
       "      <th>396</th>\n",
       "      <td>2001806229</td>\n",
       "      <td>1.33</td>\n",
       "      <td>d</td>\n",
       "      <td>Forward charges</td>\n",
       "      <td>1.25</td>\n",
       "    </tr>\n",
       "    <tr>\n",
       "      <th>397</th>\n",
       "      <td>2001806229</td>\n",
       "      <td>2.40</td>\n",
       "      <td>d</td>\n",
       "      <td>Forward charges</td>\n",
       "      <td>1.25</td>\n",
       "    </tr>\n",
       "    <tr>\n",
       "      <th>398</th>\n",
       "      <td>2001806226</td>\n",
       "      <td>2.40</td>\n",
       "      <td>d</td>\n",
       "      <td>Forward charges</td>\n",
       "      <td>1.25</td>\n",
       "    </tr>\n",
       "    <tr>\n",
       "      <th>399</th>\n",
       "      <td>2001806210</td>\n",
       "      <td>1.20</td>\n",
       "      <td>b</td>\n",
       "      <td>Forward charges</td>\n",
       "      <td>0.50</td>\n",
       "    </tr>\n",
       "    <tr>\n",
       "      <th>400</th>\n",
       "      <td>2001806210</td>\n",
       "      <td>1.00</td>\n",
       "      <td>b</td>\n",
       "      <td>Forward charges</td>\n",
       "      <td>0.50</td>\n",
       "    </tr>\n",
       "  </tbody>\n",
       "</table>\n",
       "<p>401 rows × 5 columns</p>\n",
       "</div>"
      ],
      "text/plain": [
       "       Order ID  Weight Zone         Shipment  slab\n",
       "0    2001827036    1.27    b  Forward charges  0.50\n",
       "1    2001827036    1.50    b  Forward charges  0.50\n",
       "2    2001827036    1.00    b  Forward charges  0.50\n",
       "3    2001827036    1.65    b  Forward charges  0.50\n",
       "4    2001827036    3.50    b  Forward charges  0.50\n",
       "..          ...     ...  ...              ...   ...\n",
       "396  2001806229    1.33    d  Forward charges  1.25\n",
       "397  2001806229    2.40    d  Forward charges  1.25\n",
       "398  2001806226    2.40    d  Forward charges  1.25\n",
       "399  2001806210    1.20    b  Forward charges  0.50\n",
       "400  2001806210    1.00    b  Forward charges  0.50\n",
       "\n",
       "[401 rows x 5 columns]"
      ]
     },
     "execution_count": 74,
     "metadata": {},
     "output_type": "execute_result"
    }
   ],
   "source": [
    "expected"
   ]
  },
  {
   "cell_type": "markdown",
   "id": "c01cdd01-dce8-4380-95b8-0f99e6fdc463",
   "metadata": {},
   "source": [
    "__Expected['round'] is the rounds of slabs it will take for particular weight__"
   ]
  },
  {
   "cell_type": "code",
   "execution_count": 80,
   "id": "205d290e-7f52-4a11-8a21-4823f44dbef0",
   "metadata": {},
   "outputs": [],
   "source": [
    "expected['round'] = expected['Weight']/expected['slab']"
   ]
  },
  {
   "cell_type": "code",
   "execution_count": 81,
   "id": "8bab9994-2a2b-47c7-af76-b068224fc196",
   "metadata": {},
   "outputs": [],
   "source": [
    "expected['round'] = expected['round'].apply(np.ceil)"
   ]
  },
  {
   "cell_type": "code",
   "execution_count": 82,
   "id": "6b389d31-4ef5-4003-844e-a556e7a7a691",
   "metadata": {},
   "outputs": [],
   "source": [
    "expected['round'] = expected['round'].astype('int')"
   ]
  },
  {
   "cell_type": "markdown",
   "id": "4ac0d4f5-196b-4479-a018-62e82d069d1a",
   "metadata": {},
   "source": [
    "__Forward Fixed Charge and Forward Additional Weight Slab Charge columns__\r\n",
    "\r\n"
   ]
  },
  {
   "cell_type": "code",
   "execution_count": 83,
   "id": "803f5e2a-53c4-472e-898d-c8d4449c1890",
   "metadata": {},
   "outputs": [],
   "source": [
    "\r",
    "def condi_(x):\r\n",
    "    if x == 'b':\r\n",
    "        return 33.3\r\n",
    "    \r\n",
    "    elif x == 'd':\r\n",
    "        return 45.4\r\n",
    "    \r\n",
    "    else:\r\n",
    "        return 56.6\n",
    "\r\n"
   ]
  },
  {
   "cell_type": "code",
   "execution_count": 134,
   "id": "cf32398c-21d5-48c9-89bd-78ce1e967f61",
   "metadata": {},
   "outputs": [
    {
     "ename": "SyntaxError",
     "evalue": "invalid syntax (3376962463.py, line 7)",
     "output_type": "error",
     "traceback": [
      "\u001b[1;36m  Cell \u001b[1;32mIn[134], line 7\u001b[1;36m\u001b[0m\n\u001b[1;33m    n 56.6\u001b[0m\n\u001b[1;37m      ^\u001b[0m\n\u001b[1;31mSyntaxError\u001b[0m\u001b[1;31m:\u001b[0m invalid syntax\n"
     ]
    }
   ],
   "source": [
    "def condi_(x):\n",
    "    if x == 'b':\n",
    "        return 28.3\n",
    "    \n",
    "    elif x == 'd':\n",
    "        return 44.8\n",
    "n 56.6\n",
    "\r\n"
   ]
  },
  {
   "cell_type": "code",
   "execution_count": 106,
   "id": "1ebf4880-4d1c-49ef-9f3d-76f2e5339cd7",
   "metadata": {},
   "outputs": [],
   "source": [
    "\n",
    "expected['FFC'] = expected['Zone'].apply(condi_)\n"
   ]
  },
  {
   "cell_type": "code",
   "execution_count": 86,
   "id": "eba74189-9d8d-43cf-ab0d-00a6b0b706cc",
   "metadata": {},
   "outputs": [],
   "source": [
    "expected['FAW'] = expected['Zone'].apply(condi_)\r\n"
   ]
  },
  {
   "cell_type": "markdown",
   "id": "b922addc-f361-41d7-ad80-938a25f23038",
   "metadata": {},
   "source": [
    "__Price Per Weight Column__\r\n"
   ]
  },
  {
   "cell_type": "code",
   "execution_count": 98,
   "id": "766fdaf5-ba87-4d74-8e52-37423c8cfa57",
   "metadata": {},
   "outputs": [],
   "source": [
    "df = []\n",
    "for i in expected['round']:\n",
    "    if i <= 1:\n",
    "        df.append(expected['FFC']) \n",
    "    elif i == 2:\n",
    "        df.append(expected['FFC']+expected['FAW'])\n",
    "    else:\n",
    "        while(i <= 1):\n",
    "            a = expected['FFC']\n",
    "            b = expected['FAW']\n",
    "            for i in range(1, i-1):\n",
    "                c = a + b\n",
    "                a = b\n",
    "                b = c\n",
    "            df.append(b)\r\n"
   ]
  },
  {
   "cell_type": "code",
   "execution_count": 99,
   "id": "ea45bb0f-2541-4a10-8395-da44b208fdd4",
   "metadata": {},
   "outputs": [],
   "source": [
    "expected['Price per weight'] = df[0]\r\n"
   ]
  },
  {
   "cell_type": "code",
   "execution_count": 117,
   "id": "01ab41b6-4a8e-4298-ba07-f62d5abe50dd",
   "metadata": {},
   "outputs": [
    {
     "data": {
      "text/html": [
       "<div>\n",
       "<style scoped>\n",
       "    .dataframe tbody tr th:only-of-type {\n",
       "        vertical-align: middle;\n",
       "    }\n",
       "\n",
       "    .dataframe tbody tr th {\n",
       "        vertical-align: top;\n",
       "    }\n",
       "\n",
       "    .dataframe thead th {\n",
       "        text-align: right;\n",
       "    }\n",
       "</style>\n",
       "<table border=\"1\" class=\"dataframe\">\n",
       "  <thead>\n",
       "    <tr style=\"text-align: right;\">\n",
       "      <th></th>\n",
       "      <th>Order ID</th>\n",
       "      <th>Weight</th>\n",
       "      <th>Zone</th>\n",
       "      <th>Shipment</th>\n",
       "      <th>slab</th>\n",
       "      <th>round</th>\n",
       "      <th>FAW</th>\n",
       "      <th>FFC</th>\n",
       "      <th>Price per weight</th>\n",
       "    </tr>\n",
       "  </thead>\n",
       "  <tbody>\n",
       "    <tr>\n",
       "      <th>0</th>\n",
       "      <td>2001827036</td>\n",
       "      <td>1.27</td>\n",
       "      <td>b</td>\n",
       "      <td>Forward charges</td>\n",
       "      <td>0.50</td>\n",
       "      <td>3</td>\n",
       "      <td>33.3</td>\n",
       "      <td>33.3</td>\n",
       "      <td>66.6</td>\n",
       "    </tr>\n",
       "    <tr>\n",
       "      <th>1</th>\n",
       "      <td>2001827036</td>\n",
       "      <td>1.50</td>\n",
       "      <td>b</td>\n",
       "      <td>Forward charges</td>\n",
       "      <td>0.50</td>\n",
       "      <td>3</td>\n",
       "      <td>33.3</td>\n",
       "      <td>33.3</td>\n",
       "      <td>66.6</td>\n",
       "    </tr>\n",
       "    <tr>\n",
       "      <th>2</th>\n",
       "      <td>2001827036</td>\n",
       "      <td>1.00</td>\n",
       "      <td>b</td>\n",
       "      <td>Forward charges</td>\n",
       "      <td>0.50</td>\n",
       "      <td>2</td>\n",
       "      <td>33.3</td>\n",
       "      <td>33.3</td>\n",
       "      <td>66.6</td>\n",
       "    </tr>\n",
       "    <tr>\n",
       "      <th>3</th>\n",
       "      <td>2001827036</td>\n",
       "      <td>1.65</td>\n",
       "      <td>b</td>\n",
       "      <td>Forward charges</td>\n",
       "      <td>0.50</td>\n",
       "      <td>4</td>\n",
       "      <td>33.3</td>\n",
       "      <td>33.3</td>\n",
       "      <td>66.6</td>\n",
       "    </tr>\n",
       "    <tr>\n",
       "      <th>4</th>\n",
       "      <td>2001827036</td>\n",
       "      <td>3.50</td>\n",
       "      <td>b</td>\n",
       "      <td>Forward charges</td>\n",
       "      <td>0.50</td>\n",
       "      <td>7</td>\n",
       "      <td>33.3</td>\n",
       "      <td>33.3</td>\n",
       "      <td>66.6</td>\n",
       "    </tr>\n",
       "    <tr>\n",
       "      <th>...</th>\n",
       "      <td>...</td>\n",
       "      <td>...</td>\n",
       "      <td>...</td>\n",
       "      <td>...</td>\n",
       "      <td>...</td>\n",
       "      <td>...</td>\n",
       "      <td>...</td>\n",
       "      <td>...</td>\n",
       "      <td>...</td>\n",
       "    </tr>\n",
       "    <tr>\n",
       "      <th>396</th>\n",
       "      <td>2001806229</td>\n",
       "      <td>1.33</td>\n",
       "      <td>d</td>\n",
       "      <td>Forward charges</td>\n",
       "      <td>1.25</td>\n",
       "      <td>2</td>\n",
       "      <td>45.4</td>\n",
       "      <td>45.4</td>\n",
       "      <td>90.8</td>\n",
       "    </tr>\n",
       "    <tr>\n",
       "      <th>397</th>\n",
       "      <td>2001806229</td>\n",
       "      <td>2.40</td>\n",
       "      <td>d</td>\n",
       "      <td>Forward charges</td>\n",
       "      <td>1.25</td>\n",
       "      <td>2</td>\n",
       "      <td>45.4</td>\n",
       "      <td>45.4</td>\n",
       "      <td>90.8</td>\n",
       "    </tr>\n",
       "    <tr>\n",
       "      <th>398</th>\n",
       "      <td>2001806226</td>\n",
       "      <td>2.40</td>\n",
       "      <td>d</td>\n",
       "      <td>Forward charges</td>\n",
       "      <td>1.25</td>\n",
       "      <td>2</td>\n",
       "      <td>45.4</td>\n",
       "      <td>45.4</td>\n",
       "      <td>90.8</td>\n",
       "    </tr>\n",
       "    <tr>\n",
       "      <th>399</th>\n",
       "      <td>2001806210</td>\n",
       "      <td>1.20</td>\n",
       "      <td>b</td>\n",
       "      <td>Forward charges</td>\n",
       "      <td>0.50</td>\n",
       "      <td>3</td>\n",
       "      <td>33.3</td>\n",
       "      <td>33.3</td>\n",
       "      <td>66.6</td>\n",
       "    </tr>\n",
       "    <tr>\n",
       "      <th>400</th>\n",
       "      <td>2001806210</td>\n",
       "      <td>1.00</td>\n",
       "      <td>b</td>\n",
       "      <td>Forward charges</td>\n",
       "      <td>0.50</td>\n",
       "      <td>2</td>\n",
       "      <td>33.3</td>\n",
       "      <td>33.3</td>\n",
       "      <td>66.6</td>\n",
       "    </tr>\n",
       "  </tbody>\n",
       "</table>\n",
       "<p>401 rows × 9 columns</p>\n",
       "</div>"
      ],
      "text/plain": [
       "       Order ID  Weight Zone         Shipment  slab  round   FAW   FFC  \\\n",
       "0    2001827036    1.27    b  Forward charges  0.50      3  33.3  33.3   \n",
       "1    2001827036    1.50    b  Forward charges  0.50      3  33.3  33.3   \n",
       "2    2001827036    1.00    b  Forward charges  0.50      2  33.3  33.3   \n",
       "3    2001827036    1.65    b  Forward charges  0.50      4  33.3  33.3   \n",
       "4    2001827036    3.50    b  Forward charges  0.50      7  33.3  33.3   \n",
       "..          ...     ...  ...              ...   ...    ...   ...   ...   \n",
       "396  2001806229    1.33    d  Forward charges  1.25      2  45.4  45.4   \n",
       "397  2001806229    2.40    d  Forward charges  1.25      2  45.4  45.4   \n",
       "398  2001806226    2.40    d  Forward charges  1.25      2  45.4  45.4   \n",
       "399  2001806210    1.20    b  Forward charges  0.50      3  33.3  33.3   \n",
       "400  2001806210    1.00    b  Forward charges  0.50      2  33.3  33.3   \n",
       "\n",
       "     Price per weight  \n",
       "0                66.6  \n",
       "1                66.6  \n",
       "2                66.6  \n",
       "3                66.6  \n",
       "4                66.6  \n",
       "..                ...  \n",
       "396              90.8  \n",
       "397              90.8  \n",
       "398              90.8  \n",
       "399              66.6  \n",
       "400              66.6  \n",
       "\n",
       "[401 rows x 9 columns]"
      ]
     },
     "execution_count": 117,
     "metadata": {},
     "output_type": "execute_result"
    }
   ],
   "source": [
    "expected\n"
   ]
  },
  {
   "cell_type": "markdown",
   "id": "fb707873-4573-4b32-adbc-10fd70f43f87",
   "metadata": {},
   "source": [
    "Output Dataset\r\n",
    "Create a resultant CSV/Excel file with the following columns:\r\n",
    "\r\n",
    "● Order ID\r\n",
    "\r\n",
    "● AWB Number\r\n",
    "\r\n",
    "● Total weight as per X (KG)\r\n",
    "\r\n",
    "● Weight slab as per X (KG)\r\n",
    "\r\n",
    "● Total weight as per Courier Company (KG)\r\n",
    "\r\n",
    "● Weight slab charged by Courier Company (KG)\r\n",
    "\r\n",
    "● Delivery Zone as per X\r\n",
    "\r\n",
    "● Delivery Zone charged by Courier Company\r\n",
    "\r\n",
    "● Expected Charge as per X (Rs.)\r\n",
    "\r\n",
    "● Charges Billed by Courier Company (Rs.)\r\n",
    "\r\n",
    "● Difference Between Expected Charges and Billed Charges (Rs.)"
   ]
  },
  {
   "cell_type": "code",
   "execution_count": 67,
   "id": "c72a3485-1060-4f26-a075-a99ff00e1b0c",
   "metadata": {},
   "outputs": [],
   "source": [
    "output = pd.DataFrame({'Order ID' : data4['Order ID'],'AWB Number' : data4['AWB Code'],'Total weight as per X (KG)':data4['Weight (g)'],'Weight slab charged by Courier Company (KG)':data4['Charged Weight'],'Delivery Zone as per X':data4['Zone'],'Delivery Zone charged by Courier Company':data4['Zone'],'Type of Shipment':data4['Type of Shipment']})"
   ]
  },
  {
   "cell_type": "code",
   "execution_count": 68,
   "id": "67848486-1c82-4a1d-96dd-e6a4ec278078",
   "metadata": {},
   "outputs": [],
   "source": [
    "output['Total weight as per X (KG)'] = output['Total weight as per X (KG)']/100"
   ]
  },
  {
   "cell_type": "code",
   "execution_count": 69,
   "id": "0125942c-059f-48e8-8219-ea01dc1f3a63",
   "metadata": {},
   "outputs": [],
   "source": [
    "slab = []\n",
    "for i in data4['Zone']:\n",
    "    if i == 'b':\n",
    "        slab.append(0.50)\n",
    "        \n",
    "    elif i == 'd':\n",
    "        slab.append(1.25)\n",
    "    \n",
    "    else:\n",
    "        slab.append(1.50)"
   ]
  },
  {
   "cell_type": "code",
   "execution_count": 70,
   "id": "cc7d68c2-c96d-4257-b448-0249b78cbc56",
   "metadata": {},
   "outputs": [],
   "source": [
    "output['Weight slab as per X (KG)'] = slab"
   ]
  },
  {
   "cell_type": "code",
   "execution_count": 115,
   "id": "84fc3531-d8f3-4c04-a718-9cdea8dfc2bc",
   "metadata": {},
   "outputs": [],
   "source": [
    "output['Expected Charge as per X (Rs.)'] = expected['Price per weight']\n"
   ]
  },
  {
   "cell_type": "code",
   "execution_count": 75,
   "id": "71da68f6-ddb4-4304-a708-a42534ba9dc3",
   "metadata": {},
   "outputs": [],
   "source": [
    "output['Charges Billed by Courier Company (Rs.)'] = data4['Billing Amount (Rs.)']"
   ]
  },
  {
   "cell_type": "code",
   "execution_count": 116,
   "id": "8bbdc97f-d26b-4bfa-a0e4-74916026d101",
   "metadata": {},
   "outputs": [],
   "source": [
    "output['Difference Between Expected Charges and Billed Charges (Rs.)'] = output['Charges Billed by Courier Company (Rs.)'] - output['Expected Charge as per X (Rs.)']"
   ]
  },
  {
   "cell_type": "code",
   "execution_count": 118,
   "id": "a43e8731-0a6d-4575-9bfd-47a439290809",
   "metadata": {},
   "outputs": [],
   "source": [
    "output.drop_duplicates(inplace = True)"
   ]
  },
  {
   "cell_type": "markdown",
   "id": "e9ff4789-3323-4b51-9aa7-5ebd7f4269a8",
   "metadata": {},
   "source": [
    "\n",
    "__Final Output Dataset__"
   ]
  },
  {
   "cell_type": "code",
   "execution_count": 119,
   "id": "623472da-3a9a-4337-ae0c-8cd6729532eb",
   "metadata": {},
   "outputs": [
    {
     "data": {
      "text/html": [
       "<div>\n",
       "<style scoped>\n",
       "    .dataframe tbody tr th:only-of-type {\n",
       "        vertical-align: middle;\n",
       "    }\n",
       "\n",
       "    .dataframe tbody tr th {\n",
       "        vertical-align: top;\n",
       "    }\n",
       "\n",
       "    .dataframe thead th {\n",
       "        text-align: right;\n",
       "    }\n",
       "</style>\n",
       "<table border=\"1\" class=\"dataframe\">\n",
       "  <thead>\n",
       "    <tr style=\"text-align: right;\">\n",
       "      <th></th>\n",
       "      <th>Order ID</th>\n",
       "      <th>AWB Number</th>\n",
       "      <th>Total weight as per X (KG)</th>\n",
       "      <th>Weight slab charged by Courier Company (KG)</th>\n",
       "      <th>Delivery Zone as per X</th>\n",
       "      <th>Delivery Zone charged by Courier Company</th>\n",
       "      <th>Type of Shipment</th>\n",
       "      <th>Weight slab as per X (KG)</th>\n",
       "      <th>Charges Billed by Courier Company (Rs.)</th>\n",
       "      <th>Expected Charge as per X (Rs.)</th>\n",
       "      <th>Difference Between Expected Charges and Billed Charges (Rs.)</th>\n",
       "    </tr>\n",
       "  </thead>\n",
       "  <tbody>\n",
       "    <tr>\n",
       "      <th>0</th>\n",
       "      <td>2001827036</td>\n",
       "      <td>1091122418320</td>\n",
       "      <td>1.27</td>\n",
       "      <td>1.60</td>\n",
       "      <td>b</td>\n",
       "      <td>b</td>\n",
       "      <td>Forward charges</td>\n",
       "      <td>0.50</td>\n",
       "      <td>117.9</td>\n",
       "      <td>66.6</td>\n",
       "      <td>51.3</td>\n",
       "    </tr>\n",
       "    <tr>\n",
       "      <th>1</th>\n",
       "      <td>2001827036</td>\n",
       "      <td>1091122418320</td>\n",
       "      <td>1.50</td>\n",
       "      <td>1.60</td>\n",
       "      <td>b</td>\n",
       "      <td>b</td>\n",
       "      <td>Forward charges</td>\n",
       "      <td>0.50</td>\n",
       "      <td>117.9</td>\n",
       "      <td>66.6</td>\n",
       "      <td>51.3</td>\n",
       "    </tr>\n",
       "    <tr>\n",
       "      <th>2</th>\n",
       "      <td>2001827036</td>\n",
       "      <td>1091122418320</td>\n",
       "      <td>1.00</td>\n",
       "      <td>1.60</td>\n",
       "      <td>b</td>\n",
       "      <td>b</td>\n",
       "      <td>Forward charges</td>\n",
       "      <td>0.50</td>\n",
       "      <td>117.9</td>\n",
       "      <td>66.6</td>\n",
       "      <td>51.3</td>\n",
       "    </tr>\n",
       "    <tr>\n",
       "      <th>3</th>\n",
       "      <td>2001827036</td>\n",
       "      <td>1091122418320</td>\n",
       "      <td>1.65</td>\n",
       "      <td>1.60</td>\n",
       "      <td>b</td>\n",
       "      <td>b</td>\n",
       "      <td>Forward charges</td>\n",
       "      <td>0.50</td>\n",
       "      <td>117.9</td>\n",
       "      <td>66.6</td>\n",
       "      <td>51.3</td>\n",
       "    </tr>\n",
       "    <tr>\n",
       "      <th>4</th>\n",
       "      <td>2001827036</td>\n",
       "      <td>1091122418320</td>\n",
       "      <td>3.50</td>\n",
       "      <td>1.60</td>\n",
       "      <td>b</td>\n",
       "      <td>b</td>\n",
       "      <td>Forward charges</td>\n",
       "      <td>0.50</td>\n",
       "      <td>117.9</td>\n",
       "      <td>66.6</td>\n",
       "      <td>51.3</td>\n",
       "    </tr>\n",
       "    <tr>\n",
       "      <th>...</th>\n",
       "      <td>...</td>\n",
       "      <td>...</td>\n",
       "      <td>...</td>\n",
       "      <td>...</td>\n",
       "      <td>...</td>\n",
       "      <td>...</td>\n",
       "      <td>...</td>\n",
       "      <td>...</td>\n",
       "      <td>...</td>\n",
       "      <td>...</td>\n",
       "      <td>...</td>\n",
       "    </tr>\n",
       "    <tr>\n",
       "      <th>396</th>\n",
       "      <td>2001806229</td>\n",
       "      <td>1091117222080</td>\n",
       "      <td>1.33</td>\n",
       "      <td>0.71</td>\n",
       "      <td>d</td>\n",
       "      <td>d</td>\n",
       "      <td>Forward charges</td>\n",
       "      <td>1.25</td>\n",
       "      <td>90.2</td>\n",
       "      <td>90.8</td>\n",
       "      <td>-0.6</td>\n",
       "    </tr>\n",
       "    <tr>\n",
       "      <th>397</th>\n",
       "      <td>2001806229</td>\n",
       "      <td>1091117222080</td>\n",
       "      <td>2.40</td>\n",
       "      <td>0.71</td>\n",
       "      <td>d</td>\n",
       "      <td>d</td>\n",
       "      <td>Forward charges</td>\n",
       "      <td>1.25</td>\n",
       "      <td>90.2</td>\n",
       "      <td>90.8</td>\n",
       "      <td>-0.6</td>\n",
       "    </tr>\n",
       "    <tr>\n",
       "      <th>398</th>\n",
       "      <td>2001806226</td>\n",
       "      <td>1091117222065</td>\n",
       "      <td>2.40</td>\n",
       "      <td>0.68</td>\n",
       "      <td>d</td>\n",
       "      <td>d</td>\n",
       "      <td>Forward charges</td>\n",
       "      <td>1.25</td>\n",
       "      <td>90.2</td>\n",
       "      <td>90.8</td>\n",
       "      <td>-0.6</td>\n",
       "    </tr>\n",
       "    <tr>\n",
       "      <th>399</th>\n",
       "      <td>2001806210</td>\n",
       "      <td>1091117221940</td>\n",
       "      <td>1.20</td>\n",
       "      <td>2.92</td>\n",
       "      <td>b</td>\n",
       "      <td>b</td>\n",
       "      <td>Forward charges</td>\n",
       "      <td>0.50</td>\n",
       "      <td>174.5</td>\n",
       "      <td>66.6</td>\n",
       "      <td>107.9</td>\n",
       "    </tr>\n",
       "    <tr>\n",
       "      <th>400</th>\n",
       "      <td>2001806210</td>\n",
       "      <td>1091117221940</td>\n",
       "      <td>1.00</td>\n",
       "      <td>2.92</td>\n",
       "      <td>b</td>\n",
       "      <td>b</td>\n",
       "      <td>Forward charges</td>\n",
       "      <td>0.50</td>\n",
       "      <td>174.5</td>\n",
       "      <td>66.6</td>\n",
       "      <td>107.9</td>\n",
       "    </tr>\n",
       "  </tbody>\n",
       "</table>\n",
       "<p>333 rows × 11 columns</p>\n",
       "</div>"
      ],
      "text/plain": [
       "       Order ID     AWB Number  Total weight as per X (KG)  \\\n",
       "0    2001827036  1091122418320                        1.27   \n",
       "1    2001827036  1091122418320                        1.50   \n",
       "2    2001827036  1091122418320                        1.00   \n",
       "3    2001827036  1091122418320                        1.65   \n",
       "4    2001827036  1091122418320                        3.50   \n",
       "..          ...            ...                         ...   \n",
       "396  2001806229  1091117222080                        1.33   \n",
       "397  2001806229  1091117222080                        2.40   \n",
       "398  2001806226  1091117222065                        2.40   \n",
       "399  2001806210  1091117221940                        1.20   \n",
       "400  2001806210  1091117221940                        1.00   \n",
       "\n",
       "     Weight slab charged by Courier Company (KG) Delivery Zone as per X  \\\n",
       "0                                           1.60                      b   \n",
       "1                                           1.60                      b   \n",
       "2                                           1.60                      b   \n",
       "3                                           1.60                      b   \n",
       "4                                           1.60                      b   \n",
       "..                                           ...                    ...   \n",
       "396                                         0.71                      d   \n",
       "397                                         0.71                      d   \n",
       "398                                         0.68                      d   \n",
       "399                                         2.92                      b   \n",
       "400                                         2.92                      b   \n",
       "\n",
       "    Delivery Zone charged by Courier Company Type of Shipment  \\\n",
       "0                                          b  Forward charges   \n",
       "1                                          b  Forward charges   \n",
       "2                                          b  Forward charges   \n",
       "3                                          b  Forward charges   \n",
       "4                                          b  Forward charges   \n",
       "..                                       ...              ...   \n",
       "396                                        d  Forward charges   \n",
       "397                                        d  Forward charges   \n",
       "398                                        d  Forward charges   \n",
       "399                                        b  Forward charges   \n",
       "400                                        b  Forward charges   \n",
       "\n",
       "     Weight slab as per X (KG)  Charges Billed by Courier Company (Rs.)  \\\n",
       "0                         0.50                                    117.9   \n",
       "1                         0.50                                    117.9   \n",
       "2                         0.50                                    117.9   \n",
       "3                         0.50                                    117.9   \n",
       "4                         0.50                                    117.9   \n",
       "..                         ...                                      ...   \n",
       "396                       1.25                                     90.2   \n",
       "397                       1.25                                     90.2   \n",
       "398                       1.25                                     90.2   \n",
       "399                       0.50                                    174.5   \n",
       "400                       0.50                                    174.5   \n",
       "\n",
       "     Expected Charge as per X (Rs.)  \\\n",
       "0                              66.6   \n",
       "1                              66.6   \n",
       "2                              66.6   \n",
       "3                              66.6   \n",
       "4                              66.6   \n",
       "..                              ...   \n",
       "396                            90.8   \n",
       "397                            90.8   \n",
       "398                            90.8   \n",
       "399                            66.6   \n",
       "400                            66.6   \n",
       "\n",
       "     Difference Between Expected Charges and Billed Charges (Rs.)  \n",
       "0                                                 51.3             \n",
       "1                                                 51.3             \n",
       "2                                                 51.3             \n",
       "3                                                 51.3             \n",
       "4                                                 51.3             \n",
       "..                                                 ...             \n",
       "396                                               -0.6             \n",
       "397                                               -0.6             \n",
       "398                                               -0.6             \n",
       "399                                              107.9             \n",
       "400                                              107.9             \n",
       "\n",
       "[333 rows x 11 columns]"
      ]
     },
     "execution_count": 119,
     "metadata": {},
     "output_type": "execute_result"
    }
   ],
   "source": [
    "output"
   ]
  },
  {
   "cell_type": "code",
   "execution_count": 120,
   "id": "ad0a80cd-fb59-40a2-b1d9-a5c97ff4ee3a",
   "metadata": {},
   "outputs": [],
   "source": [
    "output.to_csv('Final_output.csv')"
   ]
  },
  {
   "cell_type": "markdown",
   "id": "9cb124aa-0649-40ba-b641-53ae7634aea6",
   "metadata": {},
   "source": [
    "**Final Result**"
   ]
  },
  {
   "cell_type": "code",
   "execution_count": 121,
   "id": "741d8712-de4e-48d1-a479-951661f076ba",
   "metadata": {},
   "outputs": [
    {
     "data": {
      "text/html": [
       "<div>\n",
       "<style scoped>\n",
       "    .dataframe tbody tr th:only-of-type {\n",
       "        vertical-align: middle;\n",
       "    }\n",
       "\n",
       "    .dataframe tbody tr th {\n",
       "        vertical-align: top;\n",
       "    }\n",
       "\n",
       "    .dataframe thead th {\n",
       "        text-align: right;\n",
       "    }\n",
       "</style>\n",
       "<table border=\"1\" class=\"dataframe\">\n",
       "  <thead>\n",
       "    <tr style=\"text-align: right;\">\n",
       "      <th></th>\n",
       "      <th>Unnamed: 0</th>\n",
       "      <th>Count</th>\n",
       "      <th>Amount</th>\n",
       "    </tr>\n",
       "  </thead>\n",
       "  <tbody>\n",
       "    <tr>\n",
       "      <th>0</th>\n",
       "      <td>Total Orders - Correctly Charged</td>\n",
       "      <td>1.0</td>\n",
       "      <td>135.0</td>\n",
       "    </tr>\n",
       "    <tr>\n",
       "      <th>1</th>\n",
       "      <td>Total Orders - Over Charged</td>\n",
       "      <td>1.0</td>\n",
       "      <td>-141.5</td>\n",
       "    </tr>\n",
       "    <tr>\n",
       "      <th>2</th>\n",
       "      <td>Total Orders - Under Charged</td>\n",
       "      <td>NaN</td>\n",
       "      <td>NaN</td>\n",
       "    </tr>\n",
       "  </tbody>\n",
       "</table>\n",
       "</div>"
      ],
      "text/plain": [
       "                         Unnamed: 0  Count  Amount\n",
       "0  Total Orders - Correctly Charged    1.0   135.0\n",
       "1       Total Orders - Over Charged    1.0  -141.5\n",
       "2      Total Orders - Under Charged    NaN     NaN"
      ]
     },
     "execution_count": 121,
     "metadata": {},
     "output_type": "execute_result"
    }
   ],
   "source": [
    "data6 = pd.read_excel(r'C:\\Users\\mdasa\\OneDrive\\Desktop\\cointab\\Final Assignment Data\\Expected_Result.xlsx')\n",
    "data6"
   ]
  },
  {
   "cell_type": "markdown",
   "id": "5a2be2e4-d010-416d-9cc2-1cc79034fd25",
   "metadata": {},
   "source": [
    "__Counts for Correctly Charged__"
   ]
  },
  {
   "cell_type": "code",
   "execution_count": 122,
   "id": "ca7c32ae-d3fc-447b-a5a7-bc9b81145665",
   "metadata": {},
   "outputs": [
    {
     "data": {
      "text/plain": [
       "0"
      ]
     },
     "execution_count": 122,
     "metadata": {},
     "output_type": "execute_result"
    }
   ],
   "source": [
    "x_equal = 0\n",
    "for i in output['Difference Between Expected Charges and Billed Charges (Rs.)']:\n",
    "    if i == 0:\n",
    "        x_equal += 1\n",
    "x_equal"
   ]
  },
  {
   "cell_type": "markdown",
   "id": "9a474158-8c38-464b-b461-f4b1d497bf1b",
   "metadata": {},
   "source": [
    "__Counts and Amount of Over Charger__"
   ]
  },
  {
   "cell_type": "code",
   "execution_count": 123,
   "id": "edac7daf-2a93-4459-9252-b3919340e1de",
   "metadata": {},
   "outputs": [
    {
     "data": {
      "text/plain": [
       "134"
      ]
     },
     "execution_count": 123,
     "metadata": {},
     "output_type": "execute_result"
    }
   ],
   "source": [
    "x_over = 0\n",
    "for i in output['Difference Between Expected Charges and Billed Charges (Rs.)']:\n",
    "    if i > 0:\n",
    "        x_over += 1\n",
    "x_over"
   ]
  },
  {
   "cell_type": "code",
   "execution_count": 124,
   "id": "e857bc4a-cb22-4b6a-a7ac-8c1f384684b7",
   "metadata": {},
   "outputs": [],
   "source": [
    "x = []\n",
    "for i in output['Difference Between Expected Charges and Billed Charges (Rs.)']:\n",
    "    if i > 0:\n",
    "        x.append(i)\n",
    "over = sum(x)"
   ]
  },
  {
   "cell_type": "markdown",
   "id": "2e126a50-c56a-4305-9ad3-80f1f8baf8cc",
   "metadata": {},
   "source": [
    "- Counts and Amount of Under Charger.\r\n",
    "\r\n"
   ]
  },
  {
   "cell_type": "code",
   "execution_count": 125,
   "id": "f1cc17d3-5a4b-493a-a943-7d4e9a82fc94",
   "metadata": {},
   "outputs": [
    {
     "data": {
      "text/plain": [
       "199"
      ]
     },
     "execution_count": 125,
     "metadata": {},
     "output_type": "execute_result"
    }
   ],
   "source": [
    "x_under = 0\n",
    "for i in output['Difference Between Expected Charges and Billed Charges (Rs.)']:\n",
    "    if i < 0:\n",
    "        x_under += 1\n",
    "x_under"
   ]
  },
  {
   "cell_type": "code",
   "execution_count": 126,
   "id": "e69ab472-c8c7-45ab-b8d8-61ba4f31cffd",
   "metadata": {},
   "outputs": [],
   "source": [
    "y = []\n",
    "for i in output['Difference Between Expected Charges and Billed Charges (Rs.)']:\n",
    "    if i < 0:\n",
    "        y.append(i)\n",
    "under = sum(y)"
   ]
  },
  {
   "cell_type": "code",
   "execution_count": 127,
   "id": "b3b012a7-5634-4da2-b0ae-a2a1fbf3db7e",
   "metadata": {},
   "outputs": [],
   "source": [
    "data6['Count'][0] = x_equal\n",
    "data6['Count'][1] = x_over\n",
    "data6['Count'][2] = x_under"
   ]
  },
  {
   "cell_type": "code",
   "execution_count": 128,
   "id": "f6d52e31-2f70-4c20-8141-d9e400fb9972",
   "metadata": {},
   "outputs": [],
   "source": [
    "data6['Amount'][0] = np.nan\n",
    "data6['Amount'][1] = over\n",
    "data6['Amount'][2] = under"
   ]
  },
  {
   "cell_type": "markdown",
   "id": "8ec59801-5523-41de-9a60-d85d1c750a86",
   "metadata": {},
   "source": [
    "__Final Results__"
   ]
  },
  {
   "cell_type": "code",
   "execution_count": 130,
   "id": "3d621dc8-a085-41d1-a31f-e918a4413d6d",
   "metadata": {},
   "outputs": [
    {
     "data": {
      "text/html": [
       "<div>\n",
       "<style scoped>\n",
       "    .dataframe tbody tr th:only-of-type {\n",
       "        vertical-align: middle;\n",
       "    }\n",
       "\n",
       "    .dataframe tbody tr th {\n",
       "        vertical-align: top;\n",
       "    }\n",
       "\n",
       "    .dataframe thead th {\n",
       "        text-align: right;\n",
       "    }\n",
       "</style>\n",
       "<table border=\"1\" class=\"dataframe\">\n",
       "  <thead>\n",
       "    <tr style=\"text-align: right;\">\n",
       "      <th></th>\n",
       "      <th>Unnamed: 0</th>\n",
       "      <th>Count</th>\n",
       "      <th>Amount</th>\n",
       "    </tr>\n",
       "  </thead>\n",
       "  <tbody>\n",
       "    <tr>\n",
       "      <th>0</th>\n",
       "      <td>Total Orders - Correctly Charged</td>\n",
       "      <td>0.0</td>\n",
       "      <td>NaN</td>\n",
       "    </tr>\n",
       "    <tr>\n",
       "      <th>1</th>\n",
       "      <td>Total Orders - Over Charged</td>\n",
       "      <td>134.0</td>\n",
       "      <td>11707.5</td>\n",
       "    </tr>\n",
       "    <tr>\n",
       "      <th>2</th>\n",
       "      <td>Total Orders - Under Charged</td>\n",
       "      <td>199.0</td>\n",
       "      <td>-1878.9</td>\n",
       "    </tr>\n",
       "  </tbody>\n",
       "</table>\n",
       "</div>"
      ],
      "text/plain": [
       "                         Unnamed: 0  Count   Amount\n",
       "0  Total Orders - Correctly Charged    0.0      NaN\n",
       "1       Total Orders - Over Charged  134.0  11707.5\n",
       "2      Total Orders - Under Charged  199.0  -1878.9"
      ]
     },
     "execution_count": 130,
     "metadata": {},
     "output_type": "execute_result"
    }
   ],
   "source": [
    "data6"
   ]
  },
  {
   "cell_type": "code",
   "execution_count": null,
   "id": "20edb8b6-ce04-4fe8-bc37-1d4b75080ab4",
   "metadata": {},
   "outputs": [],
   "source": [
    "data6.to_csv('Final_result.csv')"
   ]
  }
 ],
 "metadata": {
  "kernelspec": {
   "display_name": "Python 3 (ipykernel)",
   "language": "python",
   "name": "python3"
  },
  "language_info": {
   "codemirror_mode": {
    "name": "ipython",
    "version": 3
   },
   "file_extension": ".py",
   "mimetype": "text/x-python",
   "name": "python",
   "nbconvert_exporter": "python",
   "pygments_lexer": "ipython3",
   "version": "3.12.1"
  }
 },
 "nbformat": 4,
 "nbformat_minor": 5
}
